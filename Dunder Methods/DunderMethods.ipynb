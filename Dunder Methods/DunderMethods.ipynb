{
 "cells": [
  {
   "cell_type": "code",
   "execution_count": null,
   "metadata": {},
   "outputs": [],
   "source": [
    "'''\n",
    "dunder : double underscore\n",
    "\n",
    "__init__\n",
    "__str__\n",
    "__len__\n",
    "__getitem__\n",
    "__setitem__\n",
    "__repr__\n",
    "__call__\n",
    "\n",
    "__add__\n",
    "__gt__\n",
    "__lt__\n",
    "__eq__\n",
    "\n",
    "'''"
   ]
  },
  {
   "cell_type": "code",
   "execution_count": null,
   "metadata": {},
   "outputs": [],
   "source": [
    "class A:\n",
    "    def __init__(self):\n",
    "        self.lst = [45, 89, 12]\n",
    "        \n",
    "ob = A()\n",
    "print(ob) # <__main__.A object at 0x000002562E996F98>"
   ]
  },
  {
   "cell_type": "code",
   "execution_count": null,
   "metadata": {},
   "outputs": [],
   "source": [
    "class A:\n",
    "    def __init__(self):\n",
    "        self.lst = [45, 89, 12]\n",
    "    \n",
    "    def __str__(self): \n",
    "        return str(self.lst)         \n",
    "        \n",
    "ob = A()\n",
    "print(ob)       # [45, 89, 12]\n",
    "print(ob.lst)   # [45, 89, 12]"
   ]
  },
  {
   "cell_type": "code",
   "execution_count": null,
   "metadata": {},
   "outputs": [],
   "source": [
    "class A:\n",
    "    def __init__(self):\n",
    "        self.lst = [45, 89, 12]\n",
    "    \n",
    "    def __str__(self): \n",
    "        return str(self.lst)         \n",
    "    \n",
    "    def __len__(self):\n",
    "        return len(self.lst)\n",
    "    \n",
    "ob = A()\n",
    "\n",
    "print(len(ob))  # 3"
   ]
  },
  {
   "cell_type": "code",
   "execution_count": null,
   "metadata": {},
   "outputs": [],
   "source": [
    "class A:\n",
    "    def __init__(self):\n",
    "        self.lst = [45, 89, 12]\n",
    "    \n",
    "    def __str__(self): \n",
    "        return str(self.lst)         \n",
    "    \n",
    "    def __getitem__(self, i):\n",
    "        return self.lst[i]\n",
    "    \n",
    "ob = A()\n",
    "\n",
    "print(ob[1]) # 89"
   ]
  },
  {
   "cell_type": "code",
   "execution_count": null,
   "metadata": {},
   "outputs": [],
   "source": [
    "class A:\n",
    "    def __init__(self):\n",
    "        self.lst = [45, 89, 12]\n",
    "    \n",
    "    def __str__(self): \n",
    "        return str(self.lst)         \n",
    "    \n",
    "    def __getitem__(self, i):\n",
    "        return self.lst[i]\n",
    "    \n",
    "    def __setitem__(self, i, v):\n",
    "        self.lst[i] = v\n",
    "    \n",
    "ob = A()\n",
    "\n",
    "ob[1] = 13\n",
    "print(ob[1]) # 13"
   ]
  },
  {
   "cell_type": "code",
   "execution_count": null,
   "metadata": {},
   "outputs": [],
   "source": [
    "class Clock:\n",
    "    def __init__(self , h, m, s):\n",
    "        self.h = h\n",
    "        self.m = m\n",
    "        self.s = s\n",
    "   \n",
    "    def __str__(self):\n",
    "        return \"{0:02d}:{1:02d}:{2:02d}\".format(self.h , self.m, self.s)\n",
    "        \n",
    "ob = Clock(4, 26, 30)        \n",
    "print(ob)  # 4:26:30"
   ]
  },
  {
   "cell_type": "code",
   "execution_count": null,
   "metadata": {},
   "outputs": [],
   "source": [
    "class Address:\n",
    "    def __init__(self, c, s, z):\n",
    "        self.city = c\n",
    "        self.street = s\n",
    "        self.zipcode = z\n",
    "        \n",
    "    def __str__(self):\n",
    "        lst = []\n",
    "        lst.append(f'{self.city} -{self.street} -{self.zipcode}')\n",
    "        return ' '.join(lst)\n",
    "         \n",
    "a = Address('Hamedan', 'b' , '123')            \n",
    "print(a)  # Hamedan -b -123"
   ]
  },
  {
   "cell_type": "code",
   "execution_count": null,
   "metadata": {},
   "outputs": [],
   "source": [
    "class Robot:\n",
    "    def __init__(self, n, y):\n",
    "        self.name = n\n",
    "        self.build_year = y\n",
    "        \n",
    "    def __str__(self):        \n",
    "        return 'name:' + self.name + ',build year :'+str(self.build_year)\n",
    "\n",
    "    def __repr__(self):\n",
    "        return \"Robot(\\\"\" + self.name + \"\\\" , \" + str(self.build_year) + \")\"\n",
    "         \n",
    "ob = Robot('rr', 1980)\n",
    "print(ob)        # name : rr , build year : 1980\n",
    "\n",
    "print(repr(ob))  # Robot(\"rr\",1980)"
   ]
  },
  {
   "cell_type": "code",
   "execution_count": null,
   "metadata": {},
   "outputs": [],
   "source": [
    "# __call__\n",
    "\n",
    "class C:\n",
    "    def __init__(self, size , x, y):\n",
    "        self.size = size\n",
    "        self.x = x\n",
    "        self.y = y\n",
    "        \n",
    "        \n",
    "    def __call__(self, x, y):\n",
    "        self.x = x\n",
    "        self.y = y\n",
    "    \n",
    "ob = C(300, 10 , 20) \n",
    "print(ob.size) # 300\n",
    "print(ob.x)    # 10\n",
    "print(ob.y)    # 20\n",
    " \n",
    "ob(30,50) \n",
    "\n",
    "print(ob.size) # 300 \n",
    "print(ob.x)    # 30\n",
    "print(ob.y)    # 50"
   ]
  },
  {
   "cell_type": "code",
   "execution_count": null,
   "metadata": {},
   "outputs": [],
   "source": [
    "##################################\n",
    "# overload an binary + operator"
   ]
  },
  {
   "cell_type": "code",
   "execution_count": null,
   "metadata": {},
   "outputs": [],
   "source": [
    "# __add__\n",
    "\n",
    "class Complex:  \n",
    "    \n",
    "    def __init__(self, a, b):\n",
    "        self.a = a\n",
    "        self.b = b\n",
    "     \n",
    "    def __add__(self, o):\n",
    "        x = self.a + o.a\n",
    "        y = self.b + o.b\n",
    "        return x, y\n",
    "        \n",
    "ob1 = Complex(1, 3)     # 1 + 3i\n",
    "ob2 = Complex(2, 4)     # 2 + 4i\n",
    "ob3 = ob1 + ob2\n",
    "print(ob3)              # (3, 7)"
   ]
  },
  {
   "cell_type": "code",
   "execution_count": null,
   "metadata": {},
   "outputs": [],
   "source": [
    "class Test:\n",
    "    def __init__(self, a):\n",
    "        self.a = a\n",
    "      \n",
    "    def __add__(self,o):\n",
    "        return self.a + o.a\n",
    "        \n",
    "ob1 = Test(1)\n",
    "ob2 = Test(4)\n",
    "print(ob1 + ob2)   # 5\n",
    "\n",
    "ob1 = Test('ali')\n",
    "ob2 = Test('reza')\n",
    "print(ob1 + ob2)   # alireza"
   ]
  },
  {
   "cell_type": "code",
   "execution_count": null,
   "metadata": {},
   "outputs": [],
   "source": [
    "class AB:\n",
    "    def __init__(self, a):\n",
    "        self.a = a\n",
    "    \n",
    "    def __gt__(self, o ):\n",
    "        if(self.a > o.a):\n",
    "            return True\n",
    "        else:\n",
    "            return False\n",
    "    \n",
    "ob1 = AB(2)    \n",
    "ob2 = AB(5)\n",
    "\n",
    "if(ob1 > ob2):\n",
    "  print('yes')\n",
    "else:\n",
    "  print('no')\n",
    "\n",
    "print(ob1 > ob2) # False"
   ]
  },
  {
   "cell_type": "code",
   "execution_count": null,
   "metadata": {},
   "outputs": [],
   "source": [
    "class ABC:\n",
    "    def __init__(self, a):\n",
    "        self.a = a\n",
    "    \n",
    "    def __lt__(self, o ):\n",
    "        if(self.a < o.a):\n",
    "            return True\n",
    "        else:\n",
    "            return False\n",
    "    \n",
    "    def __eq__(self, o):\n",
    "        if (self.a == o.a):\n",
    "            return 'equal'\n",
    "        else:\n",
    "            return 'not equal'\n",
    "        \n",
    "ob1 = ABC(2)    \n",
    "ob2 = ABC(5)\n",
    "\n",
    "print(ob1 < ob2)  # True\n",
    "\n",
    "print(ob1 == ob2) # not equal"
   ]
  },
  {
   "cell_type": "code",
   "execution_count": null,
   "metadata": {},
   "outputs": [],
   "source": [
    "# data descriptor\n",
    "\n",
    "class A:\n",
    "    def __init__(self, a=None):\n",
    "        print('init')\n",
    "        self.__set__(self, a)\n",
    "        \n",
    "    def __set__(self, i, v):\n",
    "        print('set')\n",
    "        self.v = v\n",
    "        print(self.v)\n",
    "       \n",
    "    def __get__(self, i , o):\n",
    "        print('get')\n",
    "        return self.v + 1\n",
    "       \n",
    "class B:\n",
    "    x = A(5)      # init  set\n",
    "    \n",
    "    \n",
    "ob = B()   \n",
    "ob.x = 8    # set  8\n",
    "print(ob.x) # get  9 "
   ]
  },
  {
   "cell_type": "markdown",
   "metadata": {},
   "source": [
    "<div class=\"alert alert-block alert-info\">\n",
    "<div style=\"direction:rtl;text-align:right;font-family:B Lotus, B Nazanin, Tahoma\"> دانشگاه شهید مدنی آذربایجان<br> برنامه نویسی پیشرفته با پایتون<br>امین گلزاری اسکوئی <br>1400-1401<br>\n",
    "</div>\n",
    "<a href=\"https://github.com/Amin-Golzari-Oskouei/Python-Programming-Course-Advanced-2021\"> Codes and Projects (click here) </a>\n",
    "<a href=\"https://drive.google.com/drive/folders/1Dx3v7fD1QBWL-MNP2hd7iIxaRbeALkkA\">slides and videos (click here)</a>\n",
    "</div>"
   ]
  }
 ],
 "metadata": {
  "kernelspec": {
   "display_name": "Python 3",
   "language": "python",
   "name": "python3"
  },
  "language_info": {
   "codemirror_mode": {
    "name": "ipython",
    "version": 3
   },
   "file_extension": ".py",
   "mimetype": "text/x-python",
   "name": "python",
   "nbconvert_exporter": "python",
   "pygments_lexer": "ipython3",
   "version": "3.8.8"
  }
 },
 "nbformat": 4,
 "nbformat_minor": 4
}
