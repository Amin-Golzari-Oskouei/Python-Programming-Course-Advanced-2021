{
 "cells": [
  {
   "cell_type": "markdown",
   "metadata": {},
   "source": [
    "<img src=\"images/3-1datatypes2019-page-003.jpg\" alt=\"SRTTU\" style=\"width: 1000px;\"/>"
   ]
  },
  {
   "cell_type": "markdown",
   "metadata": {},
   "source": [
    "<img src=\"images/1-2-types-2019-page-005.jpg\" alt=\"SRTTU\" style=\"width: 1000px;\"/>"
   ]
  },
  {
   "cell_type": "markdown",
   "metadata": {},
   "source": [
    "<img src=\"images/1-2-types-2019-page-006.jpg\" alt=\"SRTTU\" style=\"width: 1000px;\"/>"
   ]
  },
  {
   "cell_type": "markdown",
   "metadata": {},
   "source": [
    "<img src=\"images/1-2-types-2019-page-009.jpg\" alt=\"SRTTU\" style=\"width: 1000px;\"/>"
   ]
  },
  {
   "cell_type": "markdown",
   "metadata": {},
   "source": [
    "<img src=\"images/3-1datatypes2019-page-004.jpg\" alt=\"SRTTU\" style=\"width: 1000px;\"/>"
   ]
  },
  {
   "cell_type": "markdown",
   "metadata": {},
   "source": [
    "<img src=\"images/3-1datatypes2019-page-007.jpg\" alt=\"SRTTU\" style=\"width: 1000px;\"/>"
   ]
  },
  {
   "cell_type": "code",
   "execution_count": null,
   "metadata": {},
   "outputs": [],
   "source": [
    "'''\n",
    "   OOP :\n",
    "       class\n",
    "       object\n",
    "       __init__\n",
    "       \n",
    "'''"
   ]
  },
  {
   "cell_type": "code",
   "execution_count": null,
   "metadata": {},
   "outputs": [],
   "source": [
    "class Test:\n",
    "    ''' class for add  , mul '''\n",
    "    def set_var(self,a,b):\n",
    "        self.a = a\n",
    "        self.b = b\n",
    "    \n",
    "    def add(self):\n",
    "        return self.a + self.b\n",
    "    \n",
    "    def mul(self):\n",
    "        return self.a * self.b\n",
    "    \n",
    "ob1 = Test() \n",
    "   \n",
    "ob1.set_var(2,3)\n",
    "print(ob1.a)     # 2\n",
    "print(ob1.b)     # 3\n",
    "\n",
    "print(ob1.add()) # 2+3=5\n",
    "print(ob1.mul()) # 2*3=6\n",
    "\n",
    "print(ob1.__dict__)   # {'a': 2, 'b': 3}\n",
    "\n",
    "print(ob1.__doc__)    #  class for add  , mul \n",
    "\n",
    "ob2 = Test()\n",
    "ob2.set_var(4,7)\n",
    "print(ob2.a)     # 4\n",
    "print(ob2.b)     # 7\n",
    "print(ob2.add()) # 11\n",
    "print(ob2.mul()) # 28\n",
    "\n",
    "del ob1\n",
    "# print(ob1.a)     # name 'ob1' is not defined \n",
    "\n",
    "del ob2.b\n",
    "print(ob2.__dict__)   # {'a': 4}"
   ]
  },
  {
   "cell_type": "code",
   "execution_count": null,
   "metadata": {},
   "outputs": [],
   "source": [
    "print('---- init ----')    \n",
    "\n",
    "class Test:\n",
    "    def __init__(self,a,b):\n",
    "        self.a = a\n",
    "        self.b = b\n",
    "    \n",
    "    def add(self):\n",
    "        return self.a + self.b\n",
    "    \n",
    "    def mul(self):\n",
    "        return self.a * self.b\n",
    "    \n",
    "ob1 = Test(2, 3) \n",
    "   \n",
    "print(ob1.a)     # 2\n",
    "print(ob1.b)     # 3\n",
    "\n",
    "print(ob1.add()) # 5\n",
    "print(ob1.mul()) # 6\n",
    "\n",
    "ob2 = Test(6,1)\n",
    "x = ob2.add()\n",
    "print(x)    # 7"
   ]
  },
  {
   "cell_type": "code",
   "execution_count": null,
   "metadata": {},
   "outputs": [],
   "source": [
    "class Book:\n",
    "    def __init__(self,author, title):\n",
    "        self.author = author\n",
    "        self.title = title\n",
    "        \n",
    "    def info(self):\n",
    "        print(self.title + ':' + self.author)\n",
    "       \n",
    "x = Book('Golzari','C++')\n",
    "x.info()                     # C++:Golzari"
   ]
  },
  {
   "cell_type": "code",
   "execution_count": null,
   "metadata": {},
   "outputs": [],
   "source": [
    "class Student:\n",
    "    def __init__(self, name, score=None):\n",
    "        self.d = {}\n",
    "        self.d['name'] = name\n",
    "        self.d['score'] = score\n",
    "        \n",
    "    def get_stu(self):\n",
    "         return self.d\n",
    "\n",
    "lst = []        \n",
    "\n",
    "ob1 = Student('mahsa',20)\n",
    "ob2 = Student('ali',17)\n",
    "\n",
    "lst.append(ob1.get_stu())\n",
    "lst.append(ob2.get_stu())\n",
    "\n",
    "print(lst) # [{'name': 'mahsa', 'score': 20}, {'name': 'ali', 'score': 17}]\n",
    "\n",
    "print(lst[0]) # {'name': 'mahsa', 'score': 20}"
   ]
  },
  {
   "cell_type": "code",
   "execution_count": null,
   "metadata": {},
   "outputs": [],
   "source": [
    "class Circle:\n",
    "    def __init__(self, r):\n",
    "        self.r = r\n",
    "    \n",
    "    def area(self):\n",
    "        return self.r ** 2 * 3.14\n",
    "    \n",
    "x = Circle(8)    \n",
    "print(x.area())   # 200.96\n",
    "\n",
    "print(isinstance(x, Circle))  # True"
   ]
  },
  {
   "cell_type": "code",
   "execution_count": null,
   "metadata": {},
   "outputs": [],
   "source": [
    "d = dict()\n",
    "print(type(d))  # <class 'dict'>\n",
    "\n",
    "a = 2\n",
    "print(type(a)) # <class 'int'>"
   ]
  },
  {
   "cell_type": "code",
   "execution_count": null,
   "metadata": {},
   "outputs": [],
   "source": [
    "class Counter:\n",
    "    def __init__(self, x):\n",
    "        self.x = x\n",
    "        \n",
    "    def up(self):\n",
    "        self.x += 1        \n",
    "        \n",
    "    def down(self):\n",
    "        self.x -= 1                \n",
    "\n",
    "ob = Counter(4)        \n",
    "print(ob.x)    # 4\n",
    "ob.up()\n",
    "ob.up()\n",
    "print(ob.x)   # 6\n",
    "ob.down()\n",
    "print(ob.x)   # 5"
   ]
  },
  {
   "cell_type": "code",
   "execution_count": null,
   "metadata": {},
   "outputs": [],
   "source": [
    "class C():\n",
    "    def __init__(self):\n",
    "        self.s = ''\n",
    "    \n",
    "    def get_string(self):\n",
    "        self.s = input('input: ')\n",
    "  \n",
    "    def show(self):\n",
    "        print(self.s.upper())        \n",
    "       \n",
    "#ob = C()       \n",
    "#ob.get_string() \n",
    "#ob.show()"
   ]
  },
  {
   "cell_type": "code",
   "execution_count": null,
   "metadata": {},
   "outputs": [],
   "source": [
    "class Complex:\n",
    "    def __init__(self, r, i):\n",
    "        self.r = r\n",
    "        self.i = i\n",
    "\n",
    "x = Complex(2,4)        \n",
    "print(x.r)        # 2\n",
    "print(x.i)        # 4"
   ]
  },
  {
   "cell_type": "code",
   "execution_count": null,
   "metadata": {},
   "outputs": [],
   "source": [
    "class Email:\n",
    "    def f(self):\n",
    "        self.sent = False\n",
    "    \n",
    "    def g(self):\n",
    "        self.sent = True\n",
    "        \n",
    "ob = Email()        \n",
    "ob.f()\n",
    "print(ob.sent)  # False\n",
    "ob.g()\n",
    "print(ob.sent)  # True"
   ]
  },
  {
   "cell_type": "code",
   "execution_count": null,
   "metadata": {},
   "outputs": [],
   "source": [
    "class Machine:\n",
    "    model = 'peugeot'\n",
    "    \n",
    "    def __init__(self, t):\n",
    "        self.t = t\n",
    "\n",
    "m1 = Machine('206')        \n",
    "m2 = Machine('207')        \n",
    "\n",
    "print(m1.model)  # peugeot\n",
    "print(m2.model)  # peugeot\n",
    "print(m1.t)      # 206\n",
    "print(m2.t)      # 207"
   ]
  },
  {
   "cell_type": "code",
   "execution_count": null,
   "metadata": {},
   "outputs": [],
   "source": [
    "class C:\n",
    "    lst = []\n",
    "    \n",
    "    def __init__(self, name):\n",
    "        self.name = name\n",
    "        \n",
    "    def f(self, x):\n",
    "        self.lst.append(x)         \n",
    "\n",
    "ob1 = C('A')     \n",
    "ob2 = C('B')   \n",
    "\n",
    "ob1.f(1)\n",
    "ob1.f(2)\n",
    "ob1.f(3)\n",
    "\n",
    "print(ob1.lst)   # [1, 2, 3]     \n",
    "print(ob2.lst)   # [1, 2, 3]   \n",
    "\n",
    "ob2.f(4)\n",
    "print(ob1.lst)   # [1, 2, 3, 4]     \n",
    "print(ob2.lst)   # [1, 2, 3, 4]   "
   ]
  },
  {
   "cell_type": "code",
   "execution_count": null,
   "metadata": {},
   "outputs": [],
   "source": [
    "class C:\n",
    "    def __init__(self, name):\n",
    "        self.name = name\n",
    "        self.lst = []\n",
    "        \n",
    "    def f(self, x):\n",
    "        self.lst.append(x)         \n",
    "\n",
    "ob1 = C('A')     \n",
    "ob2 = C('B')   \n",
    "\n",
    "ob1.f(1)\n",
    "ob1.f(2)\n",
    "ob1.f(3)\n",
    "\n",
    "print(ob1.lst)   # [1, 2, 3]     \n",
    "print(ob2.lst)   # []   \n",
    "\n",
    "ob2.f(4)\n",
    "print(ob1.lst)   # [1, 2, 3]     \n",
    "print(ob2.lst)   # [4]   "
   ]
  },
  {
   "cell_type": "code",
   "execution_count": null,
   "metadata": {},
   "outputs": [],
   "source": [
    "class Student:\n",
    "    stream = 'cse'   # class variable\n",
    "    \n",
    "    def __init__(self, name , score):\n",
    "        self.name = name      # instance variable\n",
    "        self.score = score    # instance variable\n",
    "\n",
    "# objects of student class\n",
    "s1 = Student('ali', 19)        \n",
    "s2 = Student('sara', 18) \n",
    "\n",
    "print(s1.name)    # ali    \n",
    "print(s2.name)    # sara\n",
    "\n",
    "print(s1.stream)  #cse\n",
    "print(s2.stream)  #cse \n",
    "\n",
    "print(Student.stream)   # cse\n",
    "# print(Student.name)   # AttributeError"
   ]
  },
  {
   "cell_type": "code",
   "execution_count": null,
   "metadata": {},
   "outputs": [],
   "source": [
    "class Dog:\n",
    "    animal = 'dog'\n",
    "    \n",
    "    def __init__(self, b , c):\n",
    "        self.b = b\n",
    "        self.c = c\n",
    "\n",
    "d1 = Dog('pug' , 'brown')        \n",
    "d2 = Dog('bulldog' , 'black')        \n",
    "\n",
    "print(d1.animal)   # dog\n",
    "print(d2.animal)   # dog\n",
    "\n",
    "print(d1.c)   # brown\n",
    "print(d2.c)   # black"
   ]
  },
  {
   "cell_type": "code",
   "execution_count": null,
   "metadata": {},
   "outputs": [],
   "source": [
    "# private\n",
    "\n",
    "class Test:\n",
    "    def __init__(self, a, b):\n",
    "        self.a = a     # public\n",
    "        self.__b = b   # private\n",
    "\n",
    "    def f(self):\n",
    "        self.__b += 1\n",
    "        print(self.__b)\n",
    "    \n",
    "ob = Test(1, 2)        \n",
    "print(ob.a)          # 1\n",
    "#print(ob.__b)       # AttributeError\n",
    "\n",
    "ob.f()               # 3   \n",
    "\n",
    "print(ob.__dict__)   # {'a': 1, '_Test__b': 3}\n",
    "print(ob._Test__b)   # 3     name mangling\n",
    "\n",
    "ob._Test__b  = 8    \n",
    "print(ob._Test__b)   # 8  "
   ]
  },
  {
   "cell_type": "code",
   "execution_count": null,
   "metadata": {},
   "outputs": [],
   "source": [
    "class S:\n",
    "    def __init__(self, x):\n",
    "        self.__a = x\n",
    "        \n",
    "    def f(self):\n",
    "        print(self.__a, end=' ')\n",
    "        self.__a += 1\n",
    "        return(self.__a)\n",
    "        \n",
    "    def g(self, m):\n",
    "       print( m + self.f())        \n",
    "       \n",
    "ob = S(1) \n",
    "print(ob.__dict__)   # {'_S__a': 1}\n",
    "print(ob.f())        # 1 2\n",
    "ob.g(5)              # 2 8"
   ]
  },
  {
   "cell_type": "code",
   "execution_count": null,
   "metadata": {},
   "outputs": [],
   "source": [
    "class AB:\n",
    "    __x = 3\n",
    "    \n",
    "    def show(self):\n",
    "        print(self.__x)\n",
    "\n",
    "\n",
    "ob = AB()        \n",
    "ob.show()        # 3\n",
    "print(ob._AB__x) # 3"
   ]
  },
  {
   "cell_type": "code",
   "execution_count": null,
   "metadata": {},
   "outputs": [],
   "source": [
    "# private method\n",
    "\n",
    "class ABC:\n",
    "    def __f(self):  \n",
    "        print(1)\n",
    "    \n",
    "    def g(self):\n",
    "        return (self.__f())\n",
    "\n",
    "ob = ABC()    \n",
    "ob.g()      # 1\n",
    "# ob.__f()  # AttributeError\n",
    "\n",
    "ob._ABC__f() # 1\n"
   ]
  },
  {
   "cell_type": "markdown",
   "metadata": {},
   "source": [
    "<div class=\"alert alert-block alert-info\">\n",
    "<div style=\"direction:rtl;text-align:right;font-family:B Lotus, B Nazanin, Tahoma\"> دانشگاه شهید مدنی آذربایجان<br> برنامه نویسی پیشرفته با پایتون<br>امین گلزاری اسکوئی <br>1400-1401<br>\n",
    "</div>\n",
    "<a href=\"https://github.com/Amin-Golzari-Oskouei/Python-Programming-Course-Advanced-2021\"> Codes and Projects (click here) </a>\n",
    "<a href=\"https://drive.google.com/drive/folders/1Dx3v7fD1QBWL-MNP2hd7iIxaRbeALkkA\">slides and videos (click here)</a>\n",
    "</div>"
   ]
  }
 ],
 "metadata": {
  "kernelspec": {
   "display_name": "Python 3",
   "language": "python",
   "name": "python3"
  },
  "language_info": {
   "codemirror_mode": {
    "name": "ipython",
    "version": 3
   },
   "file_extension": ".py",
   "mimetype": "text/x-python",
   "name": "python",
   "nbconvert_exporter": "python",
   "pygments_lexer": "ipython3",
   "version": "3.8.8"
  }
 },
 "nbformat": 4,
 "nbformat_minor": 4
}
