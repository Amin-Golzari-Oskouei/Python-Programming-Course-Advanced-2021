{
 "cells": [
  {
   "cell_type": "code",
   "execution_count": null,
   "metadata": {},
   "outputs": [],
   "source": [
    "class Rect:\n",
    "    def __init__(self, x, y):\n",
    "        self.x = x\n",
    "        self.y = y\n",
    "        \n",
    "    @property\n",
    "    def area(self):\n",
    "        return self.x * self.y\n",
    "        \n",
    "    \n",
    "class Square(Rect):\n",
    "    def __init__(self, z):\n",
    "        super().__init__(x=z,y=z)\n",
    "\n",
    "r = Rect(2, 3)  \n",
    "print(r.area)                        #   \n",
    "s = Square(5)  \n",
    "print(s.area)                        #     "
   ]
  },
  {
   "cell_type": "code",
   "execution_count": 1,
   "metadata": {},
   "outputs": [
    {
     "name": "stdout",
     "output_type": "stream",
     "text": [
      "1 4\n",
      "3\n"
     ]
    }
   ],
   "source": [
    "class A:\n",
    "     def __init__(self):\n",
    "         self.__x = 1\n",
    "         self.y = 2\n",
    " \n",
    "     def p(self):\n",
    "         print(self.__x, self.y)\n",
    "\n",
    "class B(A):\n",
    "     def __init__(self):\n",
    "         super().__init__()\n",
    "         self.__x = 3\n",
    "         self.y = 4\n",
    "         \n",
    "b = B()\n",
    "b.p()                                   #  1   4\n",
    "print(b._B__x)                          #  3"
   ]
  },
  {
   "cell_type": "code",
   "execution_count": null,
   "metadata": {},
   "outputs": [],
   "source": [
    "class ClipBoard:\n",
    "    def __init__(self, target):\n",
    "        self.target = target\n",
    "        self.__message = None    \n",
    "\n",
    "    def fill(self, text):\n",
    "        self.__message = text\n",
    "\n",
    "    def clear(self):\n",
    "        self.__message = None\n",
    "       \n",
    "class ExtendedClipBoard(ClipBoard):\n",
    "    def __init__(self, target, message):\n",
    "        ClipBoard.target = target\n",
    "        ClipBoard.message = message\n",
    "        self.store = None\n",
    "\n",
    "    def save(self):\n",
    "        self.store = ClipBoard.target + ClipBoard.message\n",
    "\n",
    "    def remove(self):\n",
    "        self.store = None\n",
    " \n",
    "ob = ClipBoard(\"ali\")\n",
    "print(ob.target)                             # ali\n",
    "ob.fill('farshid')\n",
    "print(ob._ClipBoard__message)                # farshid\n",
    "\n",
    "obj = ExtendedClipBoard(\"ali\", \"taha\")\n",
    "obj.save()\n",
    "print(obj.store)                             # alitaha  \n",
    "obj.remove()\n",
    "print(obj.store)                             # None   "
   ]
  },
  {
   "cell_type": "code",
   "execution_count": 2,
   "metadata": {},
   "outputs": [
    {
     "name": "stdout",
     "output_type": "stream",
     "text": [
      "A\n",
      "6\n"
     ]
    }
   ],
   "source": [
    "class A:\n",
    "    def __init__(self):\n",
    "        print('A')\n",
    "        self.x = 5\n",
    "\n",
    "    def func(self):\n",
    "        self.x = 2\n",
    "\n",
    "class B(A):\n",
    "    def func(self):\n",
    "        self.x += 1\n",
    "        return self.x\n",
    "\n",
    "b = B()                                         # A\n",
    "print(b.func())                                 # 6"
   ]
  },
  {
   "cell_type": "code",
   "execution_count": null,
   "metadata": {},
   "outputs": [],
   "source": [
    "class A:\n",
    "    def __str__(self):\n",
    "        return \"A\"\n",
    "\n",
    "class B(A):\n",
    "    def __str__(self):\n",
    "        return \"B\"\n",
    "\n",
    "class C(B):\n",
    "    pass\n",
    " \n",
    "ob = C()\n",
    "print(ob)                                    # B"
   ]
  },
  {
   "cell_type": "code",
   "execution_count": null,
   "metadata": {},
   "outputs": [],
   "source": [
    "class A:\n",
    "    def __init__(self):\n",
    "        print('A')\n",
    "        super().__init__()\n",
    "        \n",
    "    def __str__(self):\n",
    "        return \"hello\"\n",
    "\n",
    "class B(A):\n",
    "    def __init__(self):\n",
    "        print('B')\n",
    "\n",
    "class C(B):\n",
    "    def __init__(self):\n",
    "        print('C')\n",
    "        super().__init__()\n",
    "\n",
    "b = B()                                    # B\n",
    "print(b)                                   # hello\n",
    "c = C()                                    # C   B\n",
    "print(c)                                   # hello"
   ]
  },
  {
   "cell_type": "code",
   "execution_count": null,
   "metadata": {},
   "outputs": [],
   "source": [
    "class A:\n",
    "    def h(self):\n",
    "        return \"A\"\n",
    "  \n",
    "    def f(self):\n",
    "        print(self.h())\n",
    "        \n",
    "class B(A):\n",
    "    def h(self):\n",
    "        return \"B\"\n",
    "\n",
    "A().f()                                    # A\n",
    "B().f()                                    # B"
   ]
  },
  {
   "cell_type": "code",
   "execution_count": null,
   "metadata": {},
   "outputs": [],
   "source": [
    "class A: \n",
    "   def f(self): \n",
    "      print('1')\n",
    "      \n",
    "class B(A): \n",
    "   def f(self): \n",
    "      print('2')\n",
    "      super().f() \n",
    "      \n",
    "class C(B): \n",
    "   def f(self): \n",
    "      print('3')\n",
    "      super().f() \n",
    "\n",
    "obj = C() \n",
    "obj.f()                                    # 3  2   1"
   ]
  },
  {
   "cell_type": "code",
   "execution_count": null,
   "metadata": {},
   "outputs": [],
   "source": [
    "class A:\n",
    "    def __init__(self):\n",
    "        self.f(4)\n",
    "        print(self.x)\n",
    "\n",
    "    def f(self, x):\n",
    "        self.x = 3 * x;\n",
    "\n",
    "class B(A):\n",
    "    def __init__(self):\n",
    "        super().__init__()\n",
    "        \n",
    "b = B()                                      # 12"
   ]
  },
  {
   "cell_type": "code",
   "execution_count": null,
   "metadata": {},
   "outputs": [],
   "source": [
    "class A:\n",
    "    def __init__(self):\n",
    "        self.f(4)\n",
    "        print(self.x)\n",
    "\n",
    "    def f(self, x):\n",
    "        self.x = 3 * x;\n",
    "\n",
    "class B(A):\n",
    "    def __init__(self):\n",
    "        super().__init__()\n",
    "        \n",
    "    def f(self, x):\n",
    "        self.x = 2 * x;\n",
    "\n",
    "b = B()                                       # 8"
   ]
  },
  {
   "cell_type": "code",
   "execution_count": 8,
   "metadata": {},
   "outputs": [
    {
     "name": "stdout",
     "output_type": "stream",
     "text": [
      "B\n",
      "1\n",
      "D\n",
      "2\n"
     ]
    }
   ],
   "source": [
    "class B:\n",
    "    x=0\n",
    "    def __init__(self):\n",
    "        global x\n",
    "        x=1\n",
    "        print(\"B\")                          \n",
    "        \n",
    "class D(B):\n",
    "    def __init__(self):\n",
    "        super().__init__()\n",
    "        global x\n",
    "        print(x)\n",
    "        x=2\n",
    "        print(\"D\")                           \n",
    "\n",
    "ob = D()                                     # B  1  D\n",
    "print(x)                                     # 2"
   ]
  },
  {
   "cell_type": "code",
   "execution_count": null,
   "metadata": {},
   "outputs": [],
   "source": [
    "class A:\n",
    "    def __init__(self, x = 1):\n",
    "        self.x = x\n",
    "\n",
    "    def f(self):\n",
    "        self.x += 2\n",
    "\n",
    "class B(A):\n",
    "    def __init__(self, y = 3):\n",
    "       A.__init__(self, 4)\n",
    "       self.y = y\n",
    "\n",
    "    def f(self):\n",
    "        self.y += 5\n",
    "\n",
    "def main():\n",
    "    b = B()\n",
    "    print(b.x, b.y)                         #  4    3\n",
    "\n",
    "    b.f()\n",
    "    print(b.x, b.y)                         #  4    8\n",
    "\n",
    "main() "
   ]
  },
  {
   "cell_type": "code",
   "execution_count": 1,
   "metadata": {},
   "outputs": [
    {
     "name": "stdout",
     "output_type": "stream",
     "text": [
      "[Person: Ali, 0]\n",
      "[Person: Sara, 11]\n",
      "[Person: Taha, 48]\n"
     ]
    }
   ],
   "source": [
    "class Person:\n",
    "    def __init__(self, name, job=None, pay=0):\n",
    "        self.name = name\n",
    "        self.job = job\n",
    "        self.pay = pay\n",
    "  \n",
    "    \n",
    "    def f(self, percent):\n",
    "        self.pay = int(self.pay * (1 + percent))\n",
    "        \n",
    "    def __repr__(self):\n",
    "        return '[Person: %s, %s]' % (self.name, self.pay)\n",
    "\n",
    "    \n",
    "class Manager(Person):\n",
    "    def __init__(self, name, pay): \n",
    "        Person.__init__(self, name, 'mgr', pay)\n",
    "        \n",
    "    def f(self, percent, bonus=.10):\n",
    "        Person.f(self, percent + bonus)       \n",
    "      \n",
    "if __name__ == '__main__':\n",
    "    ali  = Person('Ali')\n",
    "    sara = Person('Sara', job='dev', pay=10)  \n",
    "    taha = Manager('Taha', 40) \n",
    "\n",
    "    for i in (ali, sara, taha): \n",
    "        i.f(.10)      \n",
    "        print(i)  "
   ]
  },
  {
   "cell_type": "code",
   "execution_count": 6,
   "metadata": {},
   "outputs": [
    {
     "name": "stdout",
     "output_type": "stream",
     "text": [
      "4.0\n"
     ]
    }
   ],
   "source": [
    "import math\n",
    "class Point:\n",
    "    def __init__(self, x, y):\n",
    "        self.x = x\n",
    "        self.y = y\n",
    "        \n",
    "    def distance(self, p2):\n",
    "        return math.sqrt((self.x-p2.x)**2 + (self.y-p2.y)**2)\n",
    "\n",
    "class Polygon:\n",
    "    def __init__(self):\n",
    "        self.vertices = []\n",
    "        \n",
    "    def add_point(self, point):\n",
    "        self.vertices.append((point))\n",
    "        \n",
    "    def perimeter(self):\n",
    "        p = 0\n",
    "        points = self.vertices + [self.vertices[0]]\n",
    "        for i in range(len(self.vertices)):\n",
    "            p += points[i].distance(points[i+1])\n",
    "        return p\n",
    "    \n",
    "square = Polygon()\n",
    "square.add_point(Point(1,1))\n",
    "square.add_point(Point(1,2))\n",
    "square.add_point(Point(2,2))\n",
    "square.add_point(Point(2,1))\n",
    "print(square.perimeter())                      # "
   ]
  },
  {
   "cell_type": "code",
   "execution_count": 7,
   "metadata": {},
   "outputs": [
    {
     "name": "stdout",
     "output_type": "stream",
     "text": [
      "(4, 1)\n",
      "(5, 6)\n",
      "(1, 2)\n"
     ]
    }
   ],
   "source": [
    "from math import sqrt\n",
    "\n",
    "class Point:\n",
    "    def __init__(self, x, y):\n",
    "        self.x = x\n",
    "        self.y = y\n",
    "\n",
    "    def distance_from_origin(self):\n",
    "        return sqrt(self.x * self.x + self.y * self.y)\n",
    "\n",
    "    def distance(self, other):\n",
    "        dx = self.x - other.x\n",
    "        dy = self.y - other.y\n",
    "        return sqrt(dx * dx + dy * dy)\n",
    "\n",
    "    def translate(self, dx, dy):\n",
    "        self.x += dx\n",
    "        self.y += dy\n",
    "\n",
    "    def __str__(self):\n",
    "        return \"(\" + str(self.x) + \", \" + str(self.y) + \")\"\n",
    "\n",
    "    \n",
    "class Point3D(Point):\n",
    "\t  z = 0\n",
    "\t  def __init__(self, x, y, z):\n",
    "\t       Point.__init__(self, x, y)\n",
    "\t       self.z = z\n",
    "           \n",
    "\t  def translate(self, dx, dy, dz):\n",
    "\t       Point.translate(self, dx, dy)\n",
    "\t       self.z += dz\n",
    "                \n",
    "p = Point(3, -4)\n",
    "p.translate(1, 5)\n",
    "print(p)                                    # (4   1)\n",
    "Point.translate(p, 1, 5)\n",
    "print(p)                                    # (5   6)\n",
    "q = Point3D(1, 2 , 3)\n",
    "print(q)                                    # (1, 2)"
   ]
  },
  {
   "cell_type": "code",
   "execution_count": 8,
   "metadata": {},
   "outputs": [
    {
     "name": "stdout",
     "output_type": "stream",
     "text": [
      "playing a.mp3 as mp3\n"
     ]
    }
   ],
   "source": [
    "class AudioFile:\n",
    "    def __init__(self, filename):\n",
    "        if not filename.endswith(self.ext):\n",
    "            raise Exception(\"Invalid file format\")\n",
    "        self.filename = filename\n",
    "    \n",
    "class MP3File(AudioFile):\n",
    "    ext = \"mp3\"\n",
    "    def play(self):\n",
    "        print(\"playing {} as mp3\".format(self.filename))\n",
    "        \n",
    "class WavFile(AudioFile):\n",
    "    ext = \"wav\"\n",
    "    def play(self):\n",
    "        print(\"playing {} as wav\".format(self.filename))\n",
    "   \n",
    "\n",
    "mp3 = MP3File(\"a.mp3\")\n",
    "mp3.play()                  # \n"
   ]
  },
  {
   "cell_type": "code",
   "execution_count": 9,
   "metadata": {},
   "outputs": [
    {
     "name": "stdout",
     "output_type": "stream",
     "text": [
      "8     0.0000     0.0000     0.0000\n",
      "This is a molecule named Water\n",
      "It has 3 atoms\n",
      "atom\n",
      "atom\n",
      "atom\n",
      "\n"
     ]
    }
   ],
   "source": [
    "       \n",
    "class atom:\n",
    "\tdef __init__(self,atno,x,y,z):\n",
    "\t\tself.atno = atno\n",
    "\t\tself.p = (x,y,z)  \n",
    "           \n",
    "\tdef __repr__(self): \n",
    "\t\treturn '%d %10.4f %10.4f %10.4f' %(self.atno, self.p[0],self.p[1],self.p[2])\n",
    "\n",
    "class molecule:\n",
    "\tdef __init__(self,name='Generic'):\n",
    "\t\tself.name = name\n",
    "\t\tself.atomlist = []\n",
    "        \n",
    "\tdef addatom(self,atom):\n",
    "\t\tself.atomlist.append(atom)\n",
    "        \n",
    "\tdef __repr__(self):\n",
    "\t\tstr = 'This is a molecule named %s\\n' % self.name\n",
    "\t\tstr = str+'It has %d atoms\\n' % len(self.atomlist)\n",
    "\t\tfor atom in self.atomlist:\n",
    "\t\t\tstr = str + 'atom' + '\\n'\n",
    "\t\treturn str\n",
    "\n",
    "  \n",
    "mol = molecule('Water')\n",
    "at = atom(8,0.,0.,0.)\n",
    "print(at)                # 8     0.0000     0.0000     0.0000\n",
    "mol.addatom(at)\n",
    "mol.addatom(atom(1,0.,0.,1.))\n",
    "mol.addatom(atom(1,0.,1.,0.))\n",
    "print(mol)\n"
   ]
  },
  {
   "cell_type": "code",
   "execution_count": null,
   "metadata": {},
   "outputs": [],
   "source": [
    "class B:\n",
    "    cb = 0   \n",
    "    def f(self):\n",
    "        self.cb += 1\n",
    "\n",
    "class L(B):\n",
    "    cl = 0   \n",
    "    def f(self):\n",
    "        B.f(self)\n",
    "        self.cl += 1\n",
    "\n",
    "class R(B):\n",
    "    cr = 0  \n",
    "    def f(self):\n",
    "        B.f(self)\n",
    "        self.cr += 1\n",
    "\n",
    "class S(L, R):\n",
    "    cs = 0    \n",
    "    def f(self):\n",
    "        L.f(self)\n",
    "        R.f(self)\n",
    "        self.cs += 1\n",
    "\n",
    "s = S()\n",
    "s.f()                                  \n",
    "print(s.cb, s.cl, s.cr, s.cs)                #2  1   1   1"
   ]
  },
  {
   "cell_type": "code",
   "execution_count": 10,
   "metadata": {},
   "outputs": [
    {
     "name": "stdout",
     "output_type": "stream",
     "text": [
      "1 1 1 1\n"
     ]
    }
   ],
   "source": [
    "class B:\n",
    "    a = 0   \n",
    "    def f(self):\n",
    "        self.a += 1\n",
    "\n",
    "class L(B):\n",
    "    b = 0   \n",
    "    def f(self):\n",
    "        super().f()\n",
    "        self.b += 1\n",
    "\n",
    "class R(B):\n",
    "    c = 0 \n",
    "    def f(self):\n",
    "        super().f()\n",
    "        self.c += 1\n",
    "\n",
    "class S(L, R):\n",
    "    d = 0    \n",
    "    def f(self):\n",
    "        super().f()\n",
    "        self.d += 1\n",
    "\n",
    "s = S()\n",
    "s.f()\n",
    "print(s.a, s.b, s.c, s.d)                 # 1  1  1  1"
   ]
  },
  {
   "cell_type": "code",
   "execution_count": 11,
   "metadata": {},
   "outputs": [
    {
     "name": "stdout",
     "output_type": "stream",
     "text": [
      "{'_C1__X': 1, '_C2__X': 2}\n",
      "1\n",
      "2\n"
     ]
    }
   ],
   "source": [
    "class C1:\n",
    "    def f(self): \n",
    "        self.__X = 1 \n",
    "        \n",
    "    def g(self): \n",
    "        print(self.__X) \n",
    "\n",
    "class C2:\n",
    "    def h(self): \n",
    "        self.__X = 2 \n",
    "        \n",
    "    def w(self): \n",
    "        print(self.__X) \n",
    "\n",
    "class C3(C1, C2): \n",
    "    pass\n",
    "\n",
    "I = C3() \n",
    "I.f()\n",
    "I.h()\n",
    "print(I.__dict__)               # {'_C1__X': 1, '_C2__X' : 2} \n",
    "I.g()                           # 1\n",
    "I.w()                           # 2"
   ]
  },
  {
   "cell_type": "code",
   "execution_count": 12,
   "metadata": {},
   "outputs": [
    {
     "name": "stdout",
     "output_type": "stream",
     "text": [
      "C\n",
      "D\n",
      "<class 'super'>\n",
      "<super: <class 'E'>, <E object>>\n",
      "C\n"
     ]
    }
   ],
   "source": [
    "class C: \n",
    "    def act(self):\n",
    "        print('C')\n",
    "        \n",
    "class D(C):\n",
    "    def act(self):\n",
    "        super().act() \n",
    "        print('D')        \n",
    "\n",
    "class E(C):\n",
    "    def m(self): \n",
    "        p = super() \n",
    "        print(p) \n",
    "        p.act() \n",
    "\n",
    "X = D()\n",
    "X.act()                       #C D            \n",
    "print(super)                  # <class 'super'>\n",
    "E().m()                       # <super: <class 'E'>, <E object>>  C"
   ]
  },
  {
   "cell_type": "code",
   "execution_count": 16,
   "metadata": {},
   "outputs": [
    {
     "name": "stdout",
     "output_type": "stream",
     "text": [
      "B\n"
     ]
    }
   ],
   "source": [
    "class A: \n",
    "    def act(self): \n",
    "        print('A')\n",
    "\n",
    "class B:\n",
    "    def act(self): \n",
    "        print('B')\n",
    "\n",
    "class C(B, A):\n",
    "    def act(self):\n",
    "        super().act() \n",
    "        \n",
    "X = C()\n",
    "X.act()                       # "
   ]
  },
  {
   "cell_type": "code",
   "execution_count": 19,
   "metadata": {},
   "outputs": [
    {
     "name": "stdout",
     "output_type": "stream",
     "text": [
      "B\n"
     ]
    }
   ],
   "source": [
    "class B:\n",
    "    def __init__(self): \n",
    "        print('B') \n",
    "\n",
    "class C:\n",
    "    def __init__(self): \n",
    "        print('C')\n",
    "\n",
    "class D(B, C): \n",
    "    pass\n",
    "\n",
    "d = D()                       # "
   ]
  },
  {
   "cell_type": "code",
   "execution_count": 20,
   "metadata": {},
   "outputs": [
    {
     "name": "stdout",
     "output_type": "stream",
     "text": [
      "B\n",
      "A\n",
      "C\n",
      "A\n"
     ]
    }
   ],
   "source": [
    "class A:\n",
    "    def __init__(self): \n",
    "        print('A')\n",
    "    \n",
    "class B(A):\n",
    "    def __init__(self): \n",
    "        print('B'); \n",
    "        A.__init__(self)\n",
    "    \n",
    "class C(A):\n",
    "    def __init__(self): \n",
    "        print('C'); \n",
    "        A.__init__(self)\n",
    "    \n",
    "x = B()                                # B   A\n",
    "x = C()                                # C   A"
   ]
  },
  {
   "cell_type": "code",
   "execution_count": 21,
   "metadata": {},
   "outputs": [
    {
     "name": "stdout",
     "output_type": "stream",
     "text": [
      "3\n"
     ]
    }
   ],
   "source": [
    "class A: \n",
    "    x = 1 \n",
    "    \n",
    "class B(A): \n",
    "    x = 2\n",
    " \n",
    "class C(A): \n",
    "    x = 3\n",
    "\n",
    "class D(C, B): \n",
    "    pass \n",
    "\n",
    "d = D()\n",
    "print(d.x)                             #  3"
   ]
  },
  {
   "cell_type": "code",
   "execution_count": 22,
   "metadata": {},
   "outputs": [
    {
     "name": "stdout",
     "output_type": "stream",
     "text": [
      "3\n"
     ]
    }
   ],
   "source": [
    "class A: \n",
    "    x = 1 \n",
    "    \n",
    "class B(A): \n",
    "    pass\n",
    " \n",
    "class C(A): \n",
    "    x = 3\n",
    "\n",
    "class D(B, C): \n",
    "    pass \n",
    "\n",
    "d = D()\n",
    "print(d.x)                             # "
   ]
  },
  {
   "cell_type": "code",
   "execution_count": 24,
   "metadata": {},
   "outputs": [
    {
     "name": "stdout",
     "output_type": "stream",
     "text": [
      "1\n",
      "['D', 'B', 'C', 'A', 'object']\n",
      "(<class '__main__.B'>, <class '__main__.C'>)\n"
     ]
    }
   ],
   "source": [
    "class A: \n",
    "    x = 1 \n",
    "    \n",
    "class B(A): \n",
    "    pass\n",
    " \n",
    "class C(A): \n",
    "    pass\n",
    "\n",
    "class D(B, C): \n",
    "    pass\n",
    "\n",
    "d = D()\n",
    "print(d.x)                                   # 1\n",
    "print([cls.__name__ for cls in D.__mro__])   #\n",
    "print(D.__bases__)                           \n",
    "#  "
   ]
  },
  {
   "cell_type": "code",
   "execution_count": 26,
   "metadata": {},
   "outputs": [
    {
     "name": "stdout",
     "output_type": "stream",
     "text": [
      "{'sara': 1, 'farshid': 5, 'taha': 3}\n",
      "farshid\n"
     ]
    }
   ],
   "source": [
    "class D(dict):\n",
    "    def longest_key(self):\n",
    "        l = None\n",
    "        for key in self:\n",
    "            if not l or len(key) > len(l):\n",
    "                l = key\n",
    "        return l\n",
    "    \n",
    "ob = D()\n",
    "ob['sara'] = 1\n",
    "ob['farshid'] = 5\n",
    "ob['taha'] = 3\n",
    "print(ob)                       #{'sara': 1, 'farshid': 5, 'taha': 3}\n",
    "print(ob.longest_key())         # "
   ]
  },
  {
   "cell_type": "code",
   "execution_count": 27,
   "metadata": {},
   "outputs": [
    {
     "name": "stdout",
     "output_type": "stream",
     "text": [
      "['Ali reza', 'Ali taha']\n"
     ]
    }
   ],
   "source": [
    "class ContactList(list):\n",
    "    def search(self, name):       \n",
    "        mc = []   # matching_contacts\n",
    "        for c in self:\n",
    "            if name in c.name:\n",
    "                mc.append(c)\n",
    "        return mc\n",
    "\n",
    "\n",
    "class Contact:\n",
    "    ac = ContactList()   \n",
    "    \n",
    "    def __init__(self, name, email):\n",
    "        self.name = name\n",
    "        self.email = email\n",
    "        self.ac.append(self)\n",
    "\n",
    "c1 = Contact(\"Ali reza\" , \"ali@gmail.com\")\n",
    "c2 = Contact(\"Ali taha\" , \"ali@gmail.com\")\n",
    "c3 = Contact(\"Sara Z\"   , \"sara@gmail.com\")\n",
    "\n",
    "print([c.name for c in Contact.ac.search('Ali')])  \n",
    "# "
   ]
  },
  {
   "cell_type": "code",
   "execution_count": 30,
   "metadata": {},
   "outputs": [
    {
     "name": "stdout",
     "output_type": "stream",
     "text": [
      "b\n",
      "a\n",
      "['d', 'c', 'b', 'a']\n"
     ]
    }
   ],
   "source": [
    "class MyList(list):\n",
    "    def __getitem__(self, offset):\n",
    "        return list.__getitem__(self, offset - 1)\n",
    "\n",
    "if __name__ == '__main__':    \n",
    "    lst = list('abc')\n",
    "    print(lst[1])                #b \n",
    "    \n",
    "    x = MyList('abc')\n",
    "    print(x[1])                  #a\n",
    "    \n",
    "    x.append('d') \n",
    "    x.reverse()    \n",
    "    print()                     # ['d', 'c', 'b', 'a']"
   ]
  },
  {
   "cell_type": "code",
   "execution_count": 2,
   "metadata": {},
   "outputs": [
    {
     "name": "stdout",
     "output_type": "stream",
     "text": [
      "[1, 3, 5, 4]\n",
      "[1]\n"
     ]
    }
   ],
   "source": [
    "class C:\n",
    "    def __init__(self, value = []): \n",
    "        self.data = [] \n",
    "        self.concat(value)\n",
    "        \n",
    "    def intersect(self, other): \n",
    "        res = [] \n",
    "        for x in self.data:\n",
    "            if x in other: \n",
    "                res.append(x)\n",
    "        return C(res) \n",
    "    \n",
    "    def union(self, other): \n",
    "        res = self.data[:] \n",
    "        for x in other: \n",
    "            if not x in res:\n",
    "                res.append(x)\n",
    "        return C(res)\n",
    "    \n",
    "    def concat(self, value): \n",
    "        for x in value: \n",
    "            if not x in self.data:\n",
    "                self.data.append(x)\n",
    "\n",
    "    def __len__(self): \n",
    "        return len(self.data) \n",
    "    \n",
    "    def __getitem__(self, key): \n",
    "        return self.data[key] \n",
    "    \n",
    "    def __and__(self, other): \n",
    "        return self.intersect(other) \n",
    "    \n",
    "    def __or__(self, other): \n",
    "        return self.union(other) \n",
    "    \n",
    "    def __repr__(self): \n",
    "        return repr(self.data) \n",
    "    \n",
    "    def __iter__(self): \n",
    "        return iter(self.data) \n",
    "\n",
    "\n",
    "\n",
    "x = C([1, 3, 5])\n",
    "print(x.union(C([1, 4])))                  # \n",
    "print(x | C([1, 4]))                       # \n"
   ]
  },
  {
   "cell_type": "code",
   "execution_count": 3,
   "metadata": {},
   "outputs": [
    {
     "name": "stdout",
     "output_type": "stream",
     "text": [
      "3\n",
      "Set:[5, 3, 1]\n",
      "Set:[3]\n",
      "Set:[3]\n",
      "Set:[3, 6, 5, 1]\n",
      "Set:[5, 3, 1, 6]\n"
     ]
    }
   ],
   "source": [
    "class MySet(list):\n",
    "    def __init__(self, value = []): \n",
    "        list.__init__([])\n",
    "        self.concat(value) \n",
    "    \n",
    "    def intersect(self, other):\n",
    "        res = [] \n",
    "        for x in self:\n",
    "            if x in other: \n",
    "                res.append(x)\n",
    "        return MySet(res) \n",
    "    \n",
    "    def union(self, other):\n",
    "        res = MySet(self) \n",
    "        res.concat(other)\n",
    "        return res\n",
    "\n",
    "    def concat(self, value): \n",
    "        for x in value:\n",
    "            if not x in self:\n",
    "                self.append(x)\n",
    "            \n",
    "    def __and__(self, other): \n",
    "        return self.intersect(other)\n",
    "    \n",
    "    def __or__(self, other): \n",
    "        return self.union(other)\n",
    "    \n",
    "    def __repr__(self): \n",
    "        return 'Set:' + list.__repr__(self)\n",
    "    \n",
    "if __name__ == '__main__':\n",
    "    x = MySet([1, 3, 5])\n",
    "    y = MySet([3, 6])\n",
    "    print(len(x))                        # \n",
    "\n",
    "    x.reverse() \n",
    "    print(x)                             #\n",
    "    \n",
    "    print(x.intersect(y))                # \n",
    "    print(x & y)                         #\n",
    "\n",
    "    print(y.union(x))                    # \n",
    "    print(x | y)                         # "
   ]
  },
  {
   "cell_type": "code",
   "execution_count": 4,
   "metadata": {},
   "outputs": [
    {
     "name": "stdout",
     "output_type": "stream",
     "text": [
      ".F\n",
      "...D\n",
      ".....B\n",
      ".......A\n",
      ".........object\n",
      ".....C\n",
      ".......A\n",
      ".........object\n",
      "...E\n",
      ".....object\n"
     ]
    }
   ],
   "source": [
    "def classtree(cls, i):                  # \n",
    "    print('.' * i + cls.__name__) \n",
    "    for sc in cls.__bases__: \n",
    "        classtree(sc, i+2)\n",
    "\n",
    "def instancetree(inst):\n",
    "    classtree(inst.__class__, 1) \n",
    "\n",
    "def test():\n",
    "    class A: \n",
    "        pass\n",
    "    \n",
    "    class B(A): \n",
    "        pass\n",
    "    \n",
    "    class C(A): \n",
    "        pass\n",
    "    \n",
    "    class D(B,C): \n",
    "        pass\n",
    "    \n",
    "    class E: \n",
    "        pass\n",
    "    \n",
    "    class F(D,E): \n",
    "        pass\n",
    "    \n",
    "    instancetree(F())\n",
    "    \n",
    "    \n",
    "if __name__ == '__main__': \n",
    "    test()"
   ]
  },
  {
   "cell_type": "markdown",
   "metadata": {},
   "source": [
    "<div class=\"alert alert-block alert-info\">\n",
    "<div style=\"direction:rtl;text-align:right;font-family:B Lotus, B Nazanin, Tahoma\"> دانشگاه شهید مدنی آذربایجان<br> برنامه نویسی پیشرفته با پایتون<br>امین گلزاری اسکوئی <br>1400-1401<br>\n",
    "</div>\n",
    "<a href=\"https://github.com/Amin-Golzari-Oskouei/Python-Programming-Course-Advanced-2021\"> Codes and Projects (click here) </a>\n",
    "<a href=\"https://drive.google.com/drive/folders/1Dx3v7fD1QBWL-MNP2hd7iIxaRbeALkkA\">slides and videos (click here)</a>\n",
    "</div>"
   ]
  }
 ],
 "metadata": {
  "kernelspec": {
   "display_name": "Python 3",
   "language": "python",
   "name": "python3"
  },
  "language_info": {
   "codemirror_mode": {
    "name": "ipython",
    "version": 3
   },
   "file_extension": ".py",
   "mimetype": "text/x-python",
   "name": "python",
   "nbconvert_exporter": "python",
   "pygments_lexer": "ipython3",
   "version": "3.8.8"
  }
 },
 "nbformat": 4,
 "nbformat_minor": 4
}
