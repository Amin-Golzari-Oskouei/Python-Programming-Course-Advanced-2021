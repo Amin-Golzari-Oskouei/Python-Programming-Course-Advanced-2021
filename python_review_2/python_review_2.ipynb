{
 "cells": [
  {
   "cell_type": "markdown",
   "metadata": {},
   "source": [
    "<img src=\"images/2-1functions_2019-page-003.jpg\" alt=\"SRTTU\" style=\"width: 1000px;\"/>"
   ]
  },
  {
   "cell_type": "markdown",
   "metadata": {},
   "source": [
    "<img src=\"images/2-1functions_2019-page-004.jpg\" alt=\"SRTTU\" style=\"width: 1000px;\"/>"
   ]
  },
  {
   "cell_type": "markdown",
   "metadata": {},
   "source": [
    "<img src=\"images/2-1functions_2019-page-005.jpg\" alt=\"SRTTU\" style=\"width: 1000px;\"/>"
   ]
  },
  {
   "cell_type": "markdown",
   "metadata": {},
   "source": [
    "<img src=\"images/2-1functions_2019-page-006.jpg\" alt=\"SRTTU\" style=\"width: 1000px;\"/>"
   ]
  },
  {
   "cell_type": "markdown",
   "metadata": {},
   "source": [
    "<img src=\"images/2-1functions_2019-page-007.jpg\" alt=\"SRTTU\" style=\"width: 1000px;\"/>"
   ]
  },
  {
   "cell_type": "code",
   "execution_count": null,
   "metadata": {},
   "outputs": [],
   "source": [
    "###########################################################\n",
    "print('function')\n",
    "###########################################################"
   ]
  },
  {
   "cell_type": "code",
   "execution_count": null,
   "metadata": {},
   "outputs": [],
   "source": [
    "def f():\n",
    "    print('Golzari')\n",
    "    \n",
    "f() "
   ]
  },
  {
   "cell_type": "code",
   "execution_count": null,
   "metadata": {},
   "outputs": [],
   "source": [
    "def g():\n",
    "    return 'Golzari'\n",
    "\n",
    "print(g())"
   ]
  },
  {
   "cell_type": "code",
   "execution_count": null,
   "metadata": {},
   "outputs": [],
   "source": [
    "def h(p):\n",
    "    print(p)\n",
    "\n",
    "h('Golzari')  "
   ]
  },
  {
   "cell_type": "code",
   "execution_count": null,
   "metadata": {},
   "outputs": [],
   "source": [
    "def f(x,y):\n",
    "    if x > y :\n",
    "        return x\n",
    "    return y\n",
    "\n",
    "def g(x,y,z):\n",
    "    return f(x , f(y,z))\n",
    "\n",
    "print(g(3,8,2))  # 8"
   ]
  },
  {
   "cell_type": "markdown",
   "metadata": {},
   "source": [
    "<img src=\"images/2-1functions_2019-page-010.jpg\" alt=\"SRTTU\" style=\"width: 1000px;\"/>"
   ]
  },
  {
   "cell_type": "code",
   "execution_count": null,
   "metadata": {},
   "outputs": [],
   "source": [
    "x = 7\n",
    "def func():\n",
    "    global x\n",
    "    print(x)   # 7\n",
    "    x = 3\n",
    "    print(x)   # 3\n",
    "    \n",
    "func()    \n",
    "print(x)       # 3"
   ]
  },
  {
   "cell_type": "code",
   "execution_count": null,
   "metadata": {},
   "outputs": [],
   "source": [
    "def f(a, b):\n",
    "    a *= 2\n",
    "    b += 3\n",
    "    return a, b\n",
    "\n",
    "x = 4\n",
    "y = 6\n",
    "m, n = f(x, y)\n",
    "print(m)        # 8\n",
    "print(n)        # 9"
   ]
  },
  {
   "cell_type": "markdown",
   "metadata": {},
   "source": [
    "<img src=\"images/2-1functions_2019-page-030.jpg\" alt=\"SRTTU\" style=\"width: 1000px;\"/>"
   ]
  },
  {
   "cell_type": "code",
   "execution_count": null,
   "metadata": {},
   "outputs": [],
   "source": [
    "def f(lst):\n",
    "    lst[0] *= 2\n",
    "    lst[1] /= 3\n",
    "    \n",
    "a = [4, 9] \n",
    "f(a)  \n",
    "print(a[0])    # 8\n",
    "print(a[1])    # 3.0"
   ]
  },
  {
   "cell_type": "code",
   "execution_count": null,
   "metadata": {},
   "outputs": [],
   "source": [
    "def h(my_dict):\n",
    "    my_dict['x'] *= 2\n",
    "    my_dict['y'] /= 3\n",
    "        \n",
    "d = {'x':4  , 'y':9}    \n",
    "h(d)\n",
    "print(d['x'])    # 8\n",
    "print(d['y'])    # 3.0"
   ]
  },
  {
   "cell_type": "code",
   "execution_count": null,
   "metadata": {},
   "outputs": [],
   "source": [
    "def test(x, y):\n",
    "    print(x, y)\n",
    "\n",
    "test(5, 2)           # 5 2\n",
    "test(x = 5 , y = 2)  # 5 2\n",
    "test(y = 2 , x = 5)  # 5 2\n",
    "test(5 , y = 2)      # 5 2"
   ]
  },
  {
   "cell_type": "markdown",
   "metadata": {},
   "source": [
    "<img src=\"images/2-1functions_2019-page-011.jpg\" alt=\"SRTTU\" style=\"width: 1000px;\"/>"
   ]
  },
  {
   "cell_type": "code",
   "execution_count": null,
   "metadata": {},
   "outputs": [],
   "source": [
    "def harmonic(n, r=1):\n",
    "    total = 0.0\n",
    "    for i in range(1, n + 1):\n",
    "        total += 1.0 / (i**r)\n",
    "    return total\n",
    "\n",
    "print(harmonic(4))\n",
    "print(harmonic(4, r=2))\n",
    "print(harmonic(4, r=3))"
   ]
  },
  {
   "cell_type": "code",
   "execution_count": null,
   "metadata": {},
   "outputs": [],
   "source": [
    "# keyword only argument\n",
    "\n",
    "def f(*, x=8):\n",
    "    print(x)\n",
    "    \n",
    "f()        # 8\n",
    "f(x = 2)   # 2\n",
    "#f(3)     #  f() takes 0 positional arguments but 1 was given"
   ]
  },
  {
   "cell_type": "code",
   "execution_count": null,
   "metadata": {},
   "outputs": [],
   "source": [
    "# var arguments\n",
    "\n",
    "def add_more(a, b, *c):\n",
    "    print(a + b + sum(c))\n",
    "\n",
    "add_more(5, 2, 7 , 8 , 12)   # 5+2+7+8+12=  \n",
    "add_more(2, 6)               # 8"
   ]
  },
  {
   "cell_type": "code",
   "execution_count": null,
   "metadata": {},
   "outputs": [],
   "source": [
    "def f(*x , y='.'):\n",
    "    return y.join(x)\n",
    "\n",
    "print(f('ali', 'reza'))                     # ali.reza\n",
    "print(f('ali', 'reza', 'sara', y='/'))      # ali/reza/sara"
   ]
  },
  {
   "cell_type": "code",
   "execution_count": null,
   "metadata": {},
   "outputs": [],
   "source": [
    "def test(a ,*, b=7, c=9):\n",
    "    print(a,b,c)\n",
    "    \n",
    "test(5)         # 5  7  9\n",
    "test(1, b=4)    # 1  4  9\n",
    "\n",
    "# test(1, b=2, 6)    #  positional argument follows keyword argument\n",
    "\n",
    "# test(1, 3, c=4) \n",
    "'''\n",
    "test() takes 1 positional argument but 2 positional arguments \n",
    "(and 1 keyword-only argument) were given\n",
    "'''"
   ]
  },
  {
   "cell_type": "code",
   "execution_count": null,
   "metadata": {},
   "outputs": [],
   "source": [
    "def f(a, b , *c , **d):\n",
    "    print(a)  # 3\n",
    "    print(b)  # 4\n",
    "    print(c)  # (7, 1, 6)\n",
    "    print(d)  # {'x': 5, 'y': 7, 'z': 9}\n",
    "\n",
    "f(3, 4, 7, 1, 6, x=5, y=7, z=9)    "
   ]
  },
  {
   "cell_type": "code",
   "execution_count": null,
   "metadata": {},
   "outputs": [],
   "source": [
    "def count_char(s):\n",
    "    d = {}\n",
    "    for i in s:\n",
    "        if i in d.keys():\n",
    "            d[i] +=1\n",
    "        else:\n",
    "            d[i] = 1\n",
    "    return d\n",
    "\n",
    "print(count_char('abbcfab'))       # {'a': 2, 'b': 3, 'c': 1, 'f': 1}  "
   ]
  },
  {
   "cell_type": "code",
   "execution_count": null,
   "metadata": {},
   "outputs": [],
   "source": [
    "'''\n",
    "switch(a){\n",
    "   case 1: return 'one' ;break;\n",
    "   case 2: return 'two' ;break;\n",
    "   defualt :return 'nothing';\n",
    "}\n",
    "'''"
   ]
  },
  {
   "cell_type": "code",
   "execution_count": null,
   "metadata": {},
   "outputs": [],
   "source": [
    "def switch(a):\n",
    "    d = {1:'one' , 2 : 'two'}\n",
    "    return d.get(a,'nothing')\n",
    "\n",
    "print(switch(1))  # one\n",
    "print(switch(2))  # two\n",
    "print(switch(3))  # nothing"
   ]
  },
  {
   "cell_type": "code",
   "execution_count": null,
   "metadata": {},
   "outputs": [],
   "source": [
    "a = [1, 2, 3, 1, 4, 2]\n",
    "\n",
    "def unique_list(lst):\n",
    "    r = []\n",
    "    for i in lst:\n",
    "        if i not in r:\n",
    "            r.append(i)\n",
    "    return r            \n",
    "\n",
    "print(unique_list(a))              # [1, 2, 3, 4]"
   ]
  },
  {
   "cell_type": "code",
   "execution_count": null,
   "metadata": {},
   "outputs": [],
   "source": [
    "def unique_list_2(lst):\n",
    "    return list(set(lst))\n",
    "\n",
    "print(unique_list_2(a))            # [1, 2, 3, 4]"
   ]
  },
  {
   "cell_type": "code",
   "execution_count": null,
   "metadata": {},
   "outputs": [],
   "source": [
    "print('--- PEP 484 --------')\n",
    "\n",
    "def greeting(name: str) -> str:\n",
    "    return 'Hello ' + name\n",
    "\n",
    "print(greeting('farshid'))         # Hello farshid"
   ]
  },
  {
   "cell_type": "code",
   "execution_count": null,
   "metadata": {},
   "outputs": [],
   "source": [
    "def add(x:int, y:int) -> int:\n",
    "    '''\n",
    "     sum two number\n",
    "    '''\n",
    "    print(x+y)\n",
    "\n",
    "add(2, 3)  # 5\n",
    "   \n",
    "print(add.__annotations__)\n",
    "# {'x': <class 'int'>, 'y': <class 'int'>, 'return': <class 'int'>}\n",
    "\n",
    "print(add.__doc__)   # sum two number"
   ]
  },
  {
   "cell_type": "markdown",
   "metadata": {},
   "source": [
    "<img src=\"images/2-3_recursion_2019-page-003.jpg\" alt=\"SRTTU\" style=\"width: 1000px;\"/>"
   ]
  },
  {
   "cell_type": "markdown",
   "metadata": {},
   "source": [
    "<img src=\"images/2-3_recursion_2019-page-004.jpg\" alt=\"SRTTU\" style=\"width: 1000px;\"/>"
   ]
  },
  {
   "cell_type": "code",
   "execution_count": null,
   "metadata": {},
   "outputs": [],
   "source": [
    "###############################################################\n",
    "print('recursive')\n",
    "##############################################################"
   ]
  },
  {
   "cell_type": "code",
   "execution_count": null,
   "metadata": {},
   "outputs": [],
   "source": [
    "'''\n",
    "iterative:\n",
    "            n! = 1*2*3*...*n\n",
    "            \n",
    "recursive:\n",
    "            n! = n * (n-1)!\n",
    "            1! = 1\n",
    "\n",
    "4! = 4 * 3! = 4 * 6 = 24\n",
    "3! = 3 * 2! = 3 * 2 = 6\n",
    "2! = 2 * 1! = 2 * 1 = 2\n",
    "1! = 1\n",
    "\n",
    "'''"
   ]
  },
  {
   "cell_type": "code",
   "execution_count": null,
   "metadata": {},
   "outputs": [],
   "source": [
    "def fact(n):\n",
    "    if n == 1:\n",
    "        return 1\n",
    "    else:\n",
    "        return n * fact(n-1)\n",
    "\n",
    "print(fact(4))     # 24"
   ]
  },
  {
   "cell_type": "code",
   "execution_count": null,
   "metadata": {},
   "outputs": [],
   "source": [
    "def f(n,base):\n",
    "    s = '0123456789ABCDEF'\n",
    "    if n < base:\n",
    "        return s[n]\n",
    "    else:\n",
    "        return f(n//base , base) + s[ n % base]\n",
    "\n",
    "print(f(25,16))       # 19\n",
    "\n",
    "'''\n",
    "f(25,16) = f(1,16) + s[9] = 1 + 9 = 19\n",
    "f(1,16)  = s[1]  = 1\n",
    "\n",
    "'''\n",
    "\n",
    "print(f(8,2))         # 1000"
   ]
  },
  {
   "cell_type": "markdown",
   "metadata": {},
   "source": [
    "<img src=\"images/2-3_recursion_2019-page-006.jpg\" alt=\"SRTTU\" style=\"width: 1000px;\"/>"
   ]
  },
  {
   "cell_type": "code",
   "execution_count": null,
   "metadata": {},
   "outputs": [],
   "source": [
    "def gcd(p,q):\n",
    "    if q == 0:\n",
    "        return p\n",
    "    return gcd(q, p % q)\n",
    "\n",
    "print(gcd(12,36))"
   ]
  },
  {
   "cell_type": "code",
   "execution_count": null,
   "metadata": {},
   "outputs": [],
   "source": [
    "def binary_search(lst, x, start=0, end=None):\n",
    "    if end is None:\n",
    "        end = len(lst) - 1\n",
    "    if start > end:\n",
    "        return False\n",
    "    mid = (start + end) // 2\n",
    "    if x == lst[mid]:\n",
    "        return mid\n",
    "    if x < lst[mid]:\n",
    "        return binary_search(lst, x, start, mid - 1)\n",
    "    return binary_search(lst, x, mid + 1, end)\n",
    "\n",
    "a = [2, 4, 7, 12, 19, 25, 38]\n",
    "print(binary_search(a, 19 ))    # 4\n",
    "print(binary_search(a, 4 ))     # 1\n",
    "print(binary_search(a, 20))     # False"
   ]
  },
  {
   "cell_type": "markdown",
   "metadata": {},
   "source": [
    "<img src=\"images/2-3_recursion_2019-page-037.jpg\" alt=\"SRTTU\" style=\"width: 1000px;\"/>"
   ]
  },
  {
   "cell_type": "markdown",
   "metadata": {},
   "source": [
    "<img src=\"images/2-3_recursion_2019-page-038.jpg\" alt=\"SRTTU\" style=\"width: 1000px;\"/>"
   ]
  },
  {
   "cell_type": "markdown",
   "metadata": {},
   "source": [
    "<img src=\"images/2-3_recursion_2019-page-043.jpg\" alt=\"SRTTU\" style=\"width: 1000px;\"/>"
   ]
  },
  {
   "cell_type": "code",
   "execution_count": null,
   "metadata": {},
   "outputs": [],
   "source": [
    "def fib(n):\n",
    "    if n == 0: \n",
    "        return 0\n",
    "    if n == 1:\n",
    "        return 1\n",
    "    return fib(n-1) + fib(n-2)\n",
    "\n",
    "print(fib(5))"
   ]
  },
  {
   "cell_type": "markdown",
   "metadata": {},
   "source": [
    "<img src=\"images/2-3_recursion_2019-page-044.jpg\" alt=\"SRTTU\" style=\"width: 1000px;\"/>"
   ]
  },
  {
   "cell_type": "code",
   "execution_count": null,
   "metadata": {},
   "outputs": [],
   "source": [
    "memo = [0] * 200\n",
    "\n",
    "def fib(n):\n",
    "    if n == 0: \n",
    "        return 0\n",
    "    if n == 1:\n",
    "        return 1\n",
    "    if memo [n] == 0:\n",
    "        memo[n] = fib(n-1) + fib(n-2)\n",
    "    return memo[n]\n",
    "\n",
    "print(fib(60))"
   ]
  },
  {
   "cell_type": "markdown",
   "metadata": {},
   "source": [
    "<img src=\"images/2-3_recursion_2019-page-045.jpg\" alt=\"SRTTU\" style=\"width: 1000px;\"/>"
   ]
  },
  {
   "cell_type": "markdown",
   "metadata": {},
   "source": [
    "<img src=\"images/2-3_recursion_2019-page-046.jpg\" alt=\"SRTTU\" style=\"width: 1000px;\"/>"
   ]
  },
  {
   "cell_type": "code",
   "execution_count": null,
   "metadata": {},
   "outputs": [],
   "source": [
    "def fib(n): \n",
    "    F = [0] * (n + 1)\n",
    "    F[0] , F[1] = 0 , 1\n",
    "    for i in range (2, n + 1):\n",
    "        F[i] = F[i - 1] + F[i - 2]\n",
    "\n",
    "    return F[n]\n",
    "\n",
    "print(fib(60))"
   ]
  },
  {
   "cell_type": "code",
   "execution_count": null,
   "metadata": {},
   "outputs": [],
   "source": [
    "##############################################################\n",
    "print('lambda')\n",
    "##############################################################"
   ]
  },
  {
   "cell_type": "code",
   "execution_count": null,
   "metadata": {},
   "outputs": [],
   "source": [
    "add = lambda x, y : x + y \n",
    "print(add(2, 3))   # 6"
   ]
  },
  {
   "cell_type": "code",
   "execution_count": null,
   "metadata": {},
   "outputs": [],
   "source": [
    "f = lambda x, y : (x + y , x - y)\n",
    "print(f(8, 1))                     # (9, 7)"
   ]
  },
  {
   "cell_type": "code",
   "execution_count": null,
   "metadata": {},
   "outputs": [],
   "source": [
    "print('---map---')\n",
    "\n",
    "lst = ['ALI', 'REZA'] \n",
    "print(list(map(str.lower, lst)))     #['ali', 'reza']"
   ]
  },
  {
   "cell_type": "code",
   "execution_count": null,
   "metadata": {},
   "outputs": [],
   "source": [
    "a = ['mahsa', 'sara']\n",
    "b = [20, 16]\n",
    "\n",
    "print(list(zip(a,b)))                # [('mahsa', 20), ('sara', 16)]\n",
    "\n",
    "print(list(map(lambda x, y : (x,y) , a , b))) "
   ]
  },
  {
   "cell_type": "code",
   "execution_count": null,
   "metadata": {},
   "outputs": [],
   "source": [
    "a = [1, 3]\n",
    "b = [2, 4]\n",
    "print(list(map(lambda x, y :x+y, a, b)))   # [3, 7]"
   ]
  },
  {
   "cell_type": "code",
   "execution_count": null,
   "metadata": {},
   "outputs": [],
   "source": [
    "a = [16, 7, 14, 6]\n",
    "print(list(map(lambda x : x < 10 , a)))    # [False, True, False, True]"
   ]
  },
  {
   "cell_type": "code",
   "execution_count": null,
   "metadata": {},
   "outputs": [],
   "source": [
    "print('--- filter ---')\n",
    "a = [16, 7, 14, 6]\n",
    "print(list(filter(lambda x : x < 10 , a)))  # [7, 6]"
   ]
  },
  {
   "cell_type": "code",
   "execution_count": null,
   "metadata": {},
   "outputs": [],
   "source": [
    "a = [12, 17, '', 6,'' , 18]\n",
    "print(list(filter(None,a)))       # [12, 17, 6, 18]"
   ]
  },
  {
   "cell_type": "code",
   "execution_count": null,
   "metadata": {},
   "outputs": [],
   "source": [
    "print('--- reduce ---')\n",
    "\n",
    "from functools import reduce\n",
    "\n",
    "lis = [12, 17, 6, 18]\n",
    "add = lambda a,b : a+b\n",
    "\n",
    "print(reduce(add, lis))        # 53   : (((12+17)+6)+18)"
   ]
  },
  {
   "cell_type": "code",
   "execution_count": null,
   "metadata": {},
   "outputs": [],
   "source": [
    "print('----- sorted --------')\n",
    "\n",
    "lst = [12, 17, 6, 18]\n",
    "print(sorted(lst))             # [6, 12, 17, 18]"
   ]
  },
  {
   "cell_type": "code",
   "execution_count": null,
   "metadata": {},
   "outputs": [],
   "source": [
    "d = {'ali' : 12, 'sara' : 17, 'taha' : 6 , 'mahsa' : 18}\n",
    "print(sorted(d.items() , key = lambda x : x[1]))\n",
    "\n",
    "# [('taha', 6), ('ali', 12), ('sara', 17), ('mahsa', 18)]"
   ]
  },
  {
   "cell_type": "markdown",
   "metadata": {},
   "source": [
    "<div class=\"alert alert-block alert-info\">\n",
    "<div style=\"direction:rtl;text-align:right;font-family:B Lotus, B Nazanin, Tahoma\"> دانشگاه شهید مدنی آذربایجان<br> برنامه نویسی پیشرفته با پایتون<br>امین گلزاری اسکوئی <br>1400-1401<br>\n",
    "</div>\n",
    "<a href=\"https://github.com/Amin-Golzari-Oskouei/Python-Programming-Course-Advanced-2021\"> Codes and Projects (click here) </a>\n",
    "<a href=\"https://drive.google.com/drive/folders/1Dx3v7fD1QBWL-MNP2hd7iIxaRbeALkkA\">slides and videos (click here)</a>\n",
    "</div>"
   ]
  }
 ],
 "metadata": {
  "kernelspec": {
   "display_name": "Python 3",
   "language": "python",
   "name": "python3"
  },
  "language_info": {
   "codemirror_mode": {
    "name": "ipython",
    "version": 3
   },
   "file_extension": ".py",
   "mimetype": "text/x-python",
   "name": "python",
   "nbconvert_exporter": "python",
   "pygments_lexer": "ipython3",
   "version": "3.8.8"
  }
 },
 "nbformat": 4,
 "nbformat_minor": 4
}
