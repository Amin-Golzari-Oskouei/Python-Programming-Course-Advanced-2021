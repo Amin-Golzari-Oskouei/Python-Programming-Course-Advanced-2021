{
  "nbformat": 4,
  "nbformat_minor": 0,
  "metadata": {
    "colab": {
      "name": "Iran'sHolidaysEDA.ipynb",
      "provenance": []
    },
    "kernelspec": {
      "name": "python3",
      "display_name": "Python 3"
    },
    "language_info": {
      "name": "python"
    }
  },
  "cells": [
    {
      "cell_type": "markdown",
      "source": [
        "# **تعطیلات رسمی ایران از 1370 تا 1430**\n",
        "\n",
        "> در این پروژ یک دیتاست در اختیار شما قرار می دهیم و سوالاتی را طرح کرده‌ایم. ابتدا دیتاست را دانلود خواهید کرد و یک به یک به سوالات پاسخ خواهید داد. این پروژه را در یک فایل **ژوپیتر پایتون** ارسال کنید. \n",
        "\n",
        "\n",
        "\n",
        "\n",
        "</center>\n"
      ],
      "metadata": {
        "id": "yYk1yC_aTaZs"
      }
    },
    {
      "cell_type": "markdown",
      "source": [
        "**نام و نام خانوادگی:** نام ونام خانوادگی را اینجا وارد کنید\n",
        "\n",
        "**شماره دانشجویی:** شماره دانشجوییی را اینجا وارد کنید"
      ],
      "metadata": {
        "id": "hyYqgFReT4x1"
      }
    },
    {
      "cell_type": "markdown",
      "source": [
        "# **دانلود داده**\n",
        "\n",
        "این دیتاست از سایت زیر جمع اوری شده است:\n",
        "\n",
        "https://www.time.ir/\n",
        "\n",
        ":ابتدا دیتاست را از آدرس زیر دانلود کنید \n",
        "\n",
        "https://github.com/Amin-Golzari-Oskouei/Python-Programming-Course-Advanced-2021/blob/main/Pandas%20Project/iran_holidays.csv\n"
      ],
      "metadata": {
        "id": "loUrbOb_veG4"
      }
    },
    {
      "cell_type": "code",
      "execution_count": 34,
      "metadata": {
        "colab": {
          "base_uri": "https://localhost:8080/"
        },
        "id": "lFmHP3thegiO",
        "outputId": "b956d500-4fd9-46f8-a0f3-742cabc42672"
      },
      "outputs": [
        {
          "output_type": "stream",
          "name": "stdout",
          "text": [
            "--2022-07-26 21:14:52--  https://github.com/Amin-Golzari-Oskouei/Python-Programming-Course-Advanced-2021/blob/main/Pandas%20Project/iran_holidays.csv\n",
            "Resolving github.com (github.com)... 192.30.255.113\n",
            "Connecting to github.com (github.com)|192.30.255.113|:443... connected.\n",
            "HTTP request sent, awaiting response... 200 OK\n",
            "Length: unspecified [text/html]\n",
            "Saving to: ‘iran_holidays.csv.3’\n",
            "\n",
            "iran_holidays.csv.3     [ <=>                ] 696.32K  --.-KB/s    in 0.04s   \n",
            "\n",
            "2022-07-26 21:14:52 (17.4 MB/s) - ‘iran_holidays.csv.3’ saved [713036]\n",
            "\n"
          ]
        }
      ],
      "source": [
        "!wget https://github.com/Amin-Golzari-Oskouei/Python-Programming-Course-Advanced-2021/blob/main/Pandas%20Project/iran_holidays.csv"
      ]
    },
    {
      "cell_type": "markdown",
      "source": [
        "# وارد کردن پکیج ها"
      ],
      "metadata": {
        "id": "ura210JawgVL"
      }
    },
    {
      "cell_type": "code",
      "source": [
        "import pandas as pd\n",
        "import numpy as np\n",
        "import matplotlib.pyplot as plt\n",
        "import seaborn as sns\n",
        "import plotly.express as px\n",
        "\n",
        "sns.set_style('dark')"
      ],
      "metadata": {
        "id": "Q9aHR6Ytwd9x"
      },
      "execution_count": 36,
      "outputs": []
    },
    {
      "cell_type": "markdown",
      "source": [
        "# ابزارهای متن و ماه فارسی"
      ],
      "metadata": {
        "id": "dAFWre4kiBSj"
      }
    },
    {
      "cell_type": "code",
      "source": [
        "j_months_fa = [\n",
        "    u'فروردین',\n",
        "    u'اردیبهشت',\n",
        "    u'خرداد',\n",
        "    u'تیر',\n",
        "    u'اَمرداد',\n",
        "    u'شهریور',\n",
        "    u'مهر',\n",
        "    u'آبان',\n",
        "    u'آذر',\n",
        "    u'دی',\n",
        "    u'بهمن',\n",
        "    u'اسفند',\n",
        "]"
      ],
      "metadata": {
        "id": "GDwnGvenatoK"
      },
      "execution_count": 37,
      "outputs": []
    },
    {
      "cell_type": "code",
      "source": [
        "def replace_text(word):\n",
        "    replacements = {'پ': '\\u067e', 'چ': '\\u0686', 'ج': '\\u062c', 'ح': '\\u062d', 'خ': '\\u062e', 'ه': '\\u0647',\n",
        "                    'ع': '\\u0639', 'غ': '\\u063a', 'ف': '\\u0641', 'ق': '\\u0642', 'ث': '\\u062b', 'ص': '\\u0635',\n",
        "                    'ض': '\\u0636', 'گ': '\\u06af', 'ک': '\\u06a9', 'م': '\\u0645', 'ن': '\\u0646', 'ت': '\\u062a',\n",
        "                    'ا': '\\u0627', 'ل': '\\u0644', 'ب': '\\u0628', 'ي': '\\u06cc', 'س': '\\u0633', 'ش': '\\u0634',\n",
        "                    'و': '\\u0648', 'ئ': '\\u0626', 'د': '\\u062f', 'ذ': '\\u0630', 'ر': '\\u0631', 'ز': '\\u0632',\n",
        "                    'ط': '\\u0637', 'ظ': '\\u0638', 'ژ': '\\u0698', 'آ': '\\u0622', 'ي': '\\u064a', '؟': '\\u061f',\n",
        "                    'ك': '\\u06a9', 'ي': 'ی'}\n",
        "    for src, target in replacements.items():\n",
        "        word = word.replace(src, target)\n",
        "\n",
        "    return word\n"
      ],
      "metadata": {
        "id": "Zn0j4Eq0h5O8"
      },
      "execution_count": 38,
      "outputs": []
    },
    {
      "cell_type": "markdown",
      "source": [
        "# خواندن داده و اضافه کردن ویژگی‌ها به دیتافریم"
      ],
      "metadata": {
        "id": "Z4NmRCztwo6B"
      }
    },
    {
      "cell_type": "code",
      "source": [
        "\n",
        "df = pd.read_csv('iran_holidays.csv')\n",
        "df['date'] = pd.to_datetime(df['date'])\n",
        "\n",
        "del df['Unnamed: 0']\n",
        "df['week_day'] = df['date'].dt.day_name() # add day of week to the dataframe\n",
        "df['year'] = df['fa_date'].apply(lambda x: str(x)[:4]) # add year to the dataframe\n",
        "df['month'] = df['fa_date'].apply(lambda x: str(x)[4:6]) # add month\n",
        "df['day'] = df['fa_date'].apply(lambda x: str(x)[6:]) # add day\n",
        "df.head()\n",
        "df['reason'] = df['reason'].apply(replace_text)\n"
      ],
      "metadata": {
        "id": "qmgLdUQ-woUF"
      },
      "execution_count": 21,
      "outputs": []
    },
    {
      "cell_type": "code",
      "source": [
        "df['reason'] = df['reason'].str.replace('\\d+', '') # replace numbers\n",
        "for m in j_months_fa:\n",
        "  df['reason'] = df['reason'].str.replace(m, '') # replace every month with empty\n",
        "df['reason'] = df['reason'].str.strip()\n",
        "df['reason'] = df['reason'].replace('\\s+', ' ', regex=True)"
      ],
      "metadata": {
        "id": "fUQZOHAHa7Nz"
      },
      "execution_count": null,
      "outputs": []
    },
    {
      "cell_type": "code",
      "source": [
        "list(df['reason'].unique())"
      ],
      "metadata": {
        "id": "Tmy6LyLhcgEQ"
      },
      "execution_count": null,
      "outputs": []
    },
    {
      "cell_type": "markdown",
      "source": [
        "# سوال یک: تعداد کل تعطیلات در این سال‌ها چقدر است؟"
      ],
      "metadata": {
        "id": "ZF7Vm_81baOE"
      }
    },
    {
      "cell_type": "code",
      "source": [
        ""
      ],
      "metadata": {
        "id": "v22wPEo6MLn3"
      },
      "execution_count": 38,
      "outputs": []
    },
    {
      "cell_type": "markdown",
      "source": [
        "# سوال دو: با در نظر گرفتن روز جمعه، میانگین تعطیلات در کل این سال ها چقدر است؟"
      ],
      "metadata": {
        "id": "OYXMpuRxby3c"
      }
    },
    {
      "cell_type": "code",
      "source": [
        ""
      ],
      "metadata": {
        "id": "Slalb0fDbyRT"
      },
      "execution_count": null,
      "outputs": []
    },
    {
      "cell_type": "markdown",
      "source": [
        "# سوال سه: با در نظر نگرفتن روزهای جمعه، میانگین تعطیلات در کل این سال ها چقدر است؟"
      ],
      "metadata": {
        "id": "bokjO_28byG8"
      }
    },
    {
      "cell_type": "code",
      "source": [
        ""
      ],
      "metadata": {
        "id": "5BzugoIjcbY3"
      },
      "execution_count": null,
      "outputs": []
    },
    {
      "cell_type": "markdown",
      "source": [
        "# سوال چهار: در کل این سال ها کدام روز هفته کمترین و کدام روز هفته بیشترین تعطیلات را دارند؟\n",
        "\n",
        "# با نمودار میله ای نشان دهید از شنبه تا پنج شنبه"
      ],
      "metadata": {
        "id": "UcEG-_xbcb1r"
      }
    },
    {
      "cell_type": "code",
      "source": [
        ""
      ],
      "metadata": {
        "id": "2-8yqXt3cbWJ"
      },
      "execution_count": null,
      "outputs": []
    },
    {
      "cell_type": "markdown",
      "source": [
        "# سوال پنج: در کل این سال ها بیشترین تعطیلات و کمترین تعطیلات مربوط به کدام سال است؟\n",
        "# با نمودار میله ای نشان دهید از 1370 تا 1430\n"
      ],
      "metadata": {
        "id": "-F7YBJsxcogD"
      }
    },
    {
      "cell_type": "code",
      "source": [
        ""
      ],
      "metadata": {
        "id": "PP5hENVNcbTr"
      },
      "execution_count": null,
      "outputs": []
    },
    {
      "cell_type": "markdown",
      "source": [
        "# سوال شش: بیشترین و کمترین تعطیلی متعلق کدام مناسبت است؟ \n",
        "# تعطیلات عید نوروز را در نظر نگیرید\n",
        "# با نمودار نشان دهید\n",
        "\n",
        "\n",
        "\n",
        "\n",
        "\n"
      ],
      "metadata": {
        "id": "M5aQUH2rdbZ6"
      }
    },
    {
      "cell_type": "code",
      "source": [
        ""
      ],
      "metadata": {
        "id": "71RWf5ThcbRT"
      },
      "execution_count": null,
      "outputs": []
    },
    {
      "cell_type": "markdown",
      "source": [
        "# سوال هفت: در کل این سال ها بیشترین تعطیلات و کمترین تعطیلات مربوط به کدام ماه است؟\n",
        "# با نمودار میله ای نشان دهید از فروردین تا خرداد"
      ],
      "metadata": {
        "id": "dyQ73SSOfC54"
      }
    },
    {
      "cell_type": "code",
      "source": [
        ""
      ],
      "metadata": {
        "id": "6bfdQwOvcbMN"
      },
      "execution_count": null,
      "outputs": []
    },
    {
      "cell_type": "markdown",
      "source": [
        "# سوال هشت: بیشترین تعطیلی پشت سر هم مربوط به چه تاریخی است؟"
      ],
      "metadata": {
        "id": "UuGjgJK3fe-e"
      }
    },
    {
      "cell_type": "code",
      "source": [
        ""
      ],
      "metadata": {
        "id": "bhgqovsxcbJv"
      },
      "execution_count": null,
      "outputs": []
    }
  ]
}