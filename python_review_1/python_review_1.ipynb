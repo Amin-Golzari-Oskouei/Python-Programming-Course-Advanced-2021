{
 "cells": [
  {
   "cell_type": "markdown",
   "metadata": {},
   "source": [
    "<img src=\"images/1-2-types-2019-page-003.jpg\" alt=\"SRTTU\" style=\"width: 1000px;\"/>"
   ]
  },
  {
   "cell_type": "markdown",
   "metadata": {},
   "source": [
    "<img src=\"images/1-2-types-2019-page-004.jpg\" alt=\"SRTTU\" style=\"width: 1000px;\"/>"
   ]
  },
  {
   "cell_type": "markdown",
   "metadata": {},
   "source": [
    "<img src=\"images/1-2-types-2019-page-015.jpg\" alt=\"SRTTU\" style=\"width: 1000px;\"/>"
   ]
  },
  {
   "cell_type": "markdown",
   "metadata": {},
   "source": [
    "<img src=\"images/1-2-types-2019-page-018.jpg\" alt=\"SRTTU\" style=\"width: 1000px;\"/>"
   ]
  },
  {
   "cell_type": "markdown",
   "metadata": {},
   "source": [
    "<img src=\"images/1-2-types-2019-page-022.jpg\" alt=\"SRTTU\" style=\"width: 1000px;\"/>"
   ]
  },
  {
   "cell_type": "code",
   "execution_count": 1,
   "metadata": {},
   "outputs": [
    {
     "data": {
      "text/plain": [
       "'\\n    int\\n    float\\n    str\\n    complex\\n    bool\\n'"
      ]
     },
     "execution_count": 1,
     "metadata": {},
     "output_type": "execute_result"
    }
   ],
   "source": [
    "# Data Types   \n",
    "'''\n",
    "    int\n",
    "    float\n",
    "    str\n",
    "    complex\n",
    "    bool\n",
    "'''"
   ]
  },
  {
   "cell_type": "code",
   "execution_count": 2,
   "metadata": {},
   "outputs": [
    {
     "name": "stdout",
     "output_type": "stream",
     "text": [
      "<class 'int'>\n"
     ]
    }
   ],
   "source": [
    "i = 5                \n",
    "print(type(i))      # <class 'int'>"
   ]
  },
  {
   "cell_type": "code",
   "execution_count": 3,
   "metadata": {},
   "outputs": [
    {
     "name": "stdout",
     "output_type": "stream",
     "text": [
      "<class 'float'>\n"
     ]
    }
   ],
   "source": [
    "f = 3.6       \n",
    "print(type(f))      # <class 'float'>"
   ]
  },
  {
   "cell_type": "code",
   "execution_count": 4,
   "metadata": {},
   "outputs": [
    {
     "name": "stdout",
     "output_type": "stream",
     "text": [
      "<class 'str'>\n"
     ]
    }
   ],
   "source": [
    "s = \"Python\"  \n",
    "print(type(s))      # <class 'str'>"
   ]
  },
  {
   "cell_type": "code",
   "execution_count": 5,
   "metadata": {},
   "outputs": [
    {
     "name": "stdout",
     "output_type": "stream",
     "text": [
      "<class 'complex'>\n"
     ]
    }
   ],
   "source": [
    "c = 2 + 7j          \n",
    "print(type(c))      # <class 'complex'>"
   ]
  },
  {
   "cell_type": "code",
   "execution_count": 6,
   "metadata": {},
   "outputs": [
    {
     "name": "stdout",
     "output_type": "stream",
     "text": [
      "<class 'bool'>\n"
     ]
    }
   ],
   "source": [
    "b = True       \n",
    "print(type(b))      # <class 'bool'>"
   ]
  },
  {
   "cell_type": "markdown",
   "metadata": {},
   "source": [
    "<img src=\"images/1-2-types-2019-page-020.jpg\" alt=\"SRTTU\" style=\"width: 1000px;\"/>"
   ]
  },
  {
   "cell_type": "code",
   "execution_count": 7,
   "metadata": {},
   "outputs": [
    {
     "name": "stdout",
     "output_type": "stream",
     "text": [
      "2.0\n",
      "1.0\n"
     ]
    }
   ],
   "source": [
    "import math\n",
    "\n",
    "b = -3.0\n",
    "c = 2.0\n",
    "\n",
    "dscriminant = b*b - 4.0*c\n",
    "d = math.sqrt(dscriminant)\n",
    "\n",
    "print((-b + d) / 2.0)\n",
    "print((-b - d) / 2.0)"
   ]
  },
  {
   "cell_type": "code",
   "execution_count": 8,
   "metadata": {},
   "outputs": [
    {
     "name": "stdout",
     "output_type": "stream",
     "text": [
      "--variable names---\n",
      "True\n",
      "False\n",
      "True\n",
      "True\n",
      "False\n",
      "True\n"
     ]
    }
   ],
   "source": [
    "print('--variable names---')\n",
    "\n",
    "print('a2'.isidentifier())      # True\n",
    "print('2a'.isidentifier())      # False\n",
    "print('_myvar'.isidentifier())  # True\n",
    "print('my_var'.isidentifier())  # True\n",
    "print('my$'.isidentifier())     # False\n",
    "\n",
    "from keyword import iskeyword\n",
    "print( iskeyword('if'))         # True"
   ]
  },
  {
   "cell_type": "markdown",
   "metadata": {},
   "source": [
    "<img src=\"images/1-2-types-2019-page-027.jpg\" alt=\"SRTTU\" style=\"width: 1000px;\"/>"
   ]
  },
  {
   "cell_type": "code",
   "execution_count": 9,
   "metadata": {},
   "outputs": [
    {
     "name": "stdout",
     "output_type": "stream",
     "text": [
      "---Python Casting---\n",
      "4.0\n"
     ]
    }
   ],
   "source": [
    "print('---Python Casting---')\n",
    "\n",
    "i = 4\n",
    "print(float(i))     # 4.0"
   ]
  },
  {
   "cell_type": "code",
   "execution_count": 10,
   "metadata": {},
   "outputs": [
    {
     "name": "stdout",
     "output_type": "stream",
     "text": [
      "16\n"
     ]
    }
   ],
   "source": [
    "s ='15'\n",
    "print(int(s) + 1)   # 16"
   ]
  },
  {
   "cell_type": "code",
   "execution_count": 11,
   "metadata": {},
   "outputs": [
    {
     "name": "stdout",
     "output_type": "stream",
     "text": [
      "8\n",
      "4\n"
     ]
    }
   ],
   "source": [
    "x = 4         \n",
    "y = 8         \n",
    "y, x = x, y         # assign y value to x and x value to y\n",
    "print(x)            # 8\n",
    "print(y)            # 4"
   ]
  },
  {
   "cell_type": "code",
   "execution_count": 12,
   "metadata": {},
   "outputs": [
    {
     "name": "stdout",
     "output_type": "stream",
     "text": [
      "2\n",
      "3\n"
     ]
    }
   ],
   "source": [
    "a = 1\n",
    "b = 2\n",
    "a, b = b, a + b\n",
    "print(a)           # 2\n",
    "print(b)           # 3 "
   ]
  },
  {
   "cell_type": "markdown",
   "metadata": {},
   "source": [
    "<img src=\"images/1-2-types-2019-page-023.jpg\" alt=\"SRTTU\" style=\"width: 1000px;\"/>"
   ]
  },
  {
   "cell_type": "code",
   "execution_count": 13,
   "metadata": {},
   "outputs": [
    {
     "data": {
      "text/plain": [
       "'\\nOperators :\\n    Arithmetic : +,-,*,/,%,**,//   \\n    Assignment : =,+=,-=,*= ,/= ,%= ,//= ,**= \\n    Comparison : ==,!=,>,<,>=,<=\\n    Logical    : and, or, not\\n    Membership : in , not in\\n    Bitwise    :  &, |, ^, ~, <<, >>\\n'"
      ]
     },
     "execution_count": 13,
     "metadata": {},
     "output_type": "execute_result"
    }
   ],
   "source": [
    "# Operators :\n",
    "\n",
    "'''\n",
    "Operators :\n",
    "    Arithmetic : +,-,*,/,%,**,//   \n",
    "    Assignment : =,+=,-=,*= ,/= ,%= ,//= ,**= \n",
    "    Comparison : ==,!=,>,<,>=,<=\n",
    "    Logical    : and, or, not\n",
    "    Membership : in , not in\n",
    "    Bitwise    :  &, |, ^, ~, <<, >>\n",
    "'''"
   ]
  },
  {
   "cell_type": "code",
   "execution_count": 14,
   "metadata": {},
   "outputs": [
    {
     "name": "stdout",
     "output_type": "stream",
     "text": [
      "8\n",
      "1\n",
      "9\n"
     ]
    }
   ],
   "source": [
    "print(17 // 2)         # 8\n",
    "print(17 % 2)          # 1\n",
    "print(3 ** 2)          # 9"
   ]
  },
  {
   "cell_type": "code",
   "execution_count": 15,
   "metadata": {},
   "outputs": [
    {
     "name": "stdout",
     "output_type": "stream",
     "text": [
      "2\n"
     ]
    }
   ],
   "source": [
    "y = 4\n",
    "y //= 2               # y = y // 2\n",
    "print(y)              # 2"
   ]
  },
  {
   "cell_type": "code",
   "execution_count": 16,
   "metadata": {},
   "outputs": [
    {
     "name": "stdout",
     "output_type": "stream",
     "text": [
      "True\n"
     ]
    }
   ],
   "source": [
    "print(2 != 3)                       # True"
   ]
  },
  {
   "cell_type": "code",
   "execution_count": 17,
   "metadata": {},
   "outputs": [
    {
     "name": "stdout",
     "output_type": "stream",
     "text": [
      "False\n"
     ]
    }
   ],
   "source": [
    "print(1<3 and 4>5)                  # False"
   ]
  },
  {
   "cell_type": "code",
   "execution_count": 18,
   "metadata": {},
   "outputs": [
    {
     "name": "stdout",
     "output_type": "stream",
     "text": [
      "0b1111\n",
      "0b1001\n",
      "0b1111\n"
     ]
    }
   ],
   "source": [
    "a = 15\n",
    "print(bin(a))                       # 0b1111\n",
    "b = 9\n",
    "print(bin(b))                       # 0b1001\n",
    "c = a | b\n",
    "print(bin(c))                       # 0b1111"
   ]
  },
  {
   "cell_type": "markdown",
   "metadata": {},
   "source": [
    "<img src=\"images/1-2-types-2019-page-024.jpg\" alt=\"SRTTU\" style=\"width: 1000px;\"/>"
   ]
  },
  {
   "cell_type": "code",
   "execution_count": 19,
   "metadata": {},
   "outputs": [
    {
     "name": "stdout",
     "output_type": "stream",
     "text": [
      "False\n"
     ]
    }
   ],
   "source": [
    "year = 2019\n",
    "\n",
    "is_leap_year = (year % 4 == 0)\n",
    "is_leap_year = is_leap_year and (year % 100 != 0)\n",
    "is_leap_year = is_leap_year or (year % 400 == 0)\n",
    "\n",
    "print(is_leap_year)"
   ]
  },
  {
   "cell_type": "markdown",
   "metadata": {},
   "source": [
    "<img src=\"images/1-2-types-2019-page-021.jpg\" alt=\"SRTTU\" style=\"width: 1000px;\"/>"
   ]
  },
  {
   "cell_type": "code",
   "execution_count": 20,
   "metadata": {},
   "outputs": [
    {
     "data": {
      "text/plain": [
       "['__doc__',\n",
       " '__loader__',\n",
       " '__name__',\n",
       " '__package__',\n",
       " '__spec__',\n",
       " 'acos',\n",
       " 'acosh',\n",
       " 'asin',\n",
       " 'asinh',\n",
       " 'atan',\n",
       " 'atan2',\n",
       " 'atanh',\n",
       " 'ceil',\n",
       " 'copysign',\n",
       " 'cos',\n",
       " 'cosh',\n",
       " 'degrees',\n",
       " 'e',\n",
       " 'erf',\n",
       " 'erfc',\n",
       " 'exp',\n",
       " 'expm1',\n",
       " 'fabs',\n",
       " 'factorial',\n",
       " 'floor',\n",
       " 'fmod',\n",
       " 'frexp',\n",
       " 'fsum',\n",
       " 'gamma',\n",
       " 'gcd',\n",
       " 'hypot',\n",
       " 'inf',\n",
       " 'isclose',\n",
       " 'isfinite',\n",
       " 'isinf',\n",
       " 'isnan',\n",
       " 'ldexp',\n",
       " 'lgamma',\n",
       " 'log',\n",
       " 'log10',\n",
       " 'log1p',\n",
       " 'log2',\n",
       " 'modf',\n",
       " 'nan',\n",
       " 'pi',\n",
       " 'pow',\n",
       " 'radians',\n",
       " 'remainder',\n",
       " 'sin',\n",
       " 'sinh',\n",
       " 'sqrt',\n",
       " 'tan',\n",
       " 'tanh',\n",
       " 'tau',\n",
       " 'trunc']"
      ]
     },
     "execution_count": 20,
     "metadata": {},
     "output_type": "execute_result"
    }
   ],
   "source": [
    "dir(math)"
   ]
  },
  {
   "cell_type": "code",
   "execution_count": 21,
   "metadata": {},
   "outputs": [
    {
     "name": "stdout",
     "output_type": "stream",
     "text": [
      "# math #\n",
      "4.0\n",
      "4\n",
      "6\n",
      "4.0\n",
      "1.0\n",
      "5.0\n",
      "16.0\n",
      "3.141592653589793\n"
     ]
    }
   ],
   "source": [
    "print('# math #')\n",
    "import math\n",
    "print( math.sqrt(16))      # 4.0\n",
    "print( math.trunc(4.6))    # 4\n",
    "print( math.factorial(3))  # 6\n",
    "print( math.log2(16))      # 4.0\n",
    "print( math.fmod(17,2))    # 1.0\n",
    "print( math.fabs(-5))      # 5.0\n",
    "print( math.pow(2,4))      # 16.0\n",
    "print( math.pi)            # 3.141592653589793"
   ]
  },
  {
   "cell_type": "code",
   "execution_count": 22,
   "metadata": {},
   "outputs": [
    {
     "name": "stdout",
     "output_type": "stream",
     "text": [
      "# random #\n",
      "6\n",
      "1\n"
     ]
    }
   ],
   "source": [
    "print('# random #')\n",
    "import random\n",
    "print( random.randint(1, 10))  \n",
    "print( random.choice([1,10]))  "
   ]
  },
  {
   "cell_type": "code",
   "execution_count": 23,
   "metadata": {},
   "outputs": [
    {
     "name": "stdout",
     "output_type": "stream",
     "text": [
      "# datetime #\n",
      "2021-10-04 19:11:31.248262\n"
     ]
    }
   ],
   "source": [
    "print('# datetime #')\n",
    "import datetime\n",
    "now = datetime.datetime.now()\n",
    "print(now)                 # 2020-05-20 03:20:13.384938"
   ]
  },
  {
   "cell_type": "markdown",
   "metadata": {},
   "source": [
    "<img src=\"images/1-3-flow_2019-page-007.jpg\" alt=\"SRTTU\" style=\"width: 1000px;\"/>"
   ]
  },
  {
   "cell_type": "markdown",
   "metadata": {},
   "source": [
    "<img src=\"images/1-3-flow_2019-page-008.jpg\" alt=\"SRTTU\" style=\"width: 1000px;\"/>"
   ]
  },
  {
   "cell_type": "markdown",
   "metadata": {},
   "source": [
    "<img src=\"images/1-3-flow_2019-page-009.jpg\" alt=\"SRTTU\" style=\"width: 1000px;\"/>"
   ]
  },
  {
   "cell_type": "code",
   "execution_count": 24,
   "metadata": {},
   "outputs": [
    {
     "data": {
      "text/plain": [
       "'\\nControl statements:\\n    if\\n    if else\\n    elif\\n'"
      ]
     },
     "execution_count": 24,
     "metadata": {},
     "output_type": "execute_result"
    }
   ],
   "source": [
    "'''\n",
    "Control statements:\n",
    "    if\n",
    "    if else\n",
    "    elif\n",
    "'''"
   ]
  },
  {
   "cell_type": "code",
   "execution_count": 25,
   "metadata": {},
   "outputs": [
    {
     "name": "stdout",
     "output_type": "stream",
     "text": [
      "3.0\n"
     ]
    }
   ],
   "source": [
    "import math\n",
    "n = -9\n",
    "if n < 0 :\n",
    "   n = abs(n)\n",
    "   \n",
    "print(math.sqrt(n))        # 3.0"
   ]
  },
  {
   "cell_type": "code",
   "execution_count": 26,
   "metadata": {},
   "outputs": [
    {
     "name": "stdout",
     "output_type": "stream",
     "text": [
      "odd\n"
     ]
    }
   ],
   "source": [
    "a = 9\n",
    "if a % 2 == 0:\n",
    "    print('evevn')                  \n",
    "else:    \n",
    "    print('odd')         # odd"
   ]
  },
  {
   "cell_type": "code",
   "execution_count": 27,
   "metadata": {},
   "outputs": [
    {
     "name": "stdout",
     "output_type": "stream",
     "text": [
      "conditional expression\n",
      "3\n"
     ]
    }
   ],
   "source": [
    "print('conditional expression')\n",
    "\n",
    "a = 3\n",
    "b = 8\n",
    "\n",
    "#if a < b:\n",
    "#    m = a\n",
    "#else:\n",
    "#    m = b\n",
    "\n",
    "m = a if a < b else b    \n",
    "\n",
    "print(m)                 # 3"
   ]
  },
  {
   "cell_type": "code",
   "execution_count": 28,
   "metadata": {},
   "outputs": [
    {
     "name": "stdout",
     "output_type": "stream",
     "text": [
      "fail\n"
     ]
    }
   ],
   "source": [
    "grade = 7\n",
    "s = 'fail' if grade < 10 else 'pass'\n",
    "print(s)     # fail"
   ]
  },
  {
   "cell_type": "markdown",
   "metadata": {},
   "source": [
    "<img src=\"images/1-3-flow_2019-page-010.jpg\" alt=\"SRTTU\" style=\"width: 1000px;\"/>"
   ]
  },
  {
   "cell_type": "code",
   "execution_count": 29,
   "metadata": {},
   "outputs": [
    {
     "name": "stdout",
     "output_type": "stream",
     "text": [
      "H\n"
     ]
    }
   ],
   "source": [
    "import random\n",
    "\n",
    "if random.randrange(0,2)==0:\n",
    "    print('H')\n",
    "else:\n",
    "    print('T')"
   ]
  },
  {
   "cell_type": "code",
   "execution_count": 30,
   "metadata": {},
   "outputs": [
    {
     "name": "stdout",
     "output_type": "stream",
     "text": [
      "watch TV\n"
     ]
    }
   ],
   "source": [
    "today = 'holiday'\n",
    "b = 40\n",
    "\n",
    "if today == 'holiday':\n",
    "    if b > 50:\n",
    "        print('shopping')              \n",
    "    else:\n",
    "        print('watch TV')               # watch TV\n",
    "else:\n",
    "    print('normal working day')   "
   ]
  },
  {
   "cell_type": "code",
   "execution_count": 31,
   "metadata": {},
   "outputs": [
    {
     "name": "stdout",
     "output_type": "stream",
     "text": [
      "B\n"
     ]
    }
   ],
   "source": [
    "score = 82\n",
    "\n",
    "if score >= 90:\n",
    "    l = 'A'\n",
    "else:\n",
    "    if score >= 80 :\n",
    "        l = 'B'\n",
    "    else:\n",
    "        if score>= 70:\n",
    "            l = 'C'\n",
    "        else :\n",
    "            l = 'D'\n",
    "\n",
    "print(l)         # B\n",
    "\n",
    "# or   \n",
    "if score >= 90:\n",
    "    l = 'A'\n",
    "elif score >= 80 :\n",
    "    l = 'B'\n",
    "elif score>= 70:\n",
    "    l = 'C'\n",
    "else :\n",
    "    l = 'D'"
   ]
  },
  {
   "cell_type": "markdown",
   "metadata": {},
   "source": [
    "<img src=\"images/1-3-flow_2019-page-027.jpg\" alt=\"SRTTU\" style=\"width: 1000px;\"/>"
   ]
  },
  {
   "cell_type": "code",
   "execution_count": 32,
   "metadata": {},
   "outputs": [
    {
     "name": "stdout",
     "output_type": "stream",
     "text": [
      "10.0\n"
     ]
    }
   ],
   "source": [
    "income = 8000\n",
    "\n",
    "if income <0:          rate = 0.00\n",
    "elif income < 8925:    rate = 0.10\n",
    "elif income < 36250:   rate = 0.15\n",
    "elif income < 87850:   rate = 0.23\n",
    "elif income < 183250:  rate = 0.28\n",
    "elif income < 398350:  rate = 0.33\n",
    "elif income < 400000:  rate = 0.35\n",
    "else:                  rate = 0.396\n",
    "    \n",
    "print(rate * 100)"
   ]
  },
  {
   "cell_type": "markdown",
   "metadata": {},
   "source": [
    "<img src=\"images/1-3-flow_2019-page-004.jpg\" alt=\"SRTTU\" style=\"width: 1000px;\"/>"
   ]
  },
  {
   "cell_type": "markdown",
   "metadata": {},
   "source": [
    "<img src=\"images/1-3-flow_2019-page-005.jpg\" alt=\"SRTTU\" style=\"width: 1000px;\"/>"
   ]
  },
  {
   "cell_type": "markdown",
   "metadata": {},
   "source": [
    "<img src=\"images/1-3-flow_2019-page-006.jpg\" alt=\"SRTTU\" style=\"width: 1000px;\"/>"
   ]
  },
  {
   "cell_type": "markdown",
   "metadata": {},
   "source": [
    "<img src=\"images/1-3-flow_2019-page-018.jpg\" alt=\"SRTTU\" style=\"width: 1000px;\"/>"
   ]
  },
  {
   "cell_type": "code",
   "execution_count": 33,
   "metadata": {},
   "outputs": [
    {
     "data": {
      "text/plain": [
       "'\\n    loop : \\n          for \\n          while\\n'"
      ]
     },
     "execution_count": 33,
     "metadata": {},
     "output_type": "execute_result"
    }
   ],
   "source": [
    "\"\"\"\n",
    "    loop : \n",
    "          for \n",
    "          while\n",
    "\"\"\""
   ]
  },
  {
   "cell_type": "code",
   "execution_count": 34,
   "metadata": {},
   "outputs": [
    {
     "name": "stdout",
     "output_type": "stream",
     "text": [
      "0 1 2 hello\n",
      "hello\n",
      "hello\n"
     ]
    }
   ],
   "source": [
    "for i in range(3):\n",
    "    print(i , end = ' ')      # 0 1 2 \n",
    "    \n",
    "for _ in range(3):\n",
    "    print('hello')    "
   ]
  },
  {
   "cell_type": "code",
   "execution_count": 35,
   "metadata": {},
   "outputs": [
    {
     "name": "stdout",
     "output_type": "stream",
     "text": [
      "6 8 10 "
     ]
    }
   ],
   "source": [
    "for j in range(6,11,2):\n",
    "    print(j , end = ' ' )    # 6 8 10"
   ]
  },
  {
   "cell_type": "markdown",
   "metadata": {},
   "source": [
    "<img src=\"images/1-3-flow_2019-page-025.jpg\" alt=\"SRTTU\" style=\"width: 1000px;\"/>"
   ]
  },
  {
   "cell_type": "code",
   "execution_count": 36,
   "metadata": {},
   "outputs": [
    {
     "name": "stdout",
     "output_type": "stream",
     "text": [
      "1 \n",
      "1 2 \n",
      "1 2 3 \n"
     ]
    },
    {
     "data": {
      "text/plain": [
       "'\\n1\\n1  2\\n1  2  3\\n'"
      ]
     },
     "execution_count": 36,
     "metadata": {},
     "output_type": "execute_result"
    }
   ],
   "source": [
    "for i in range(2,5):\n",
    "    for j in range(1,i):\n",
    "        print(j , end = ' ')\n",
    "    print()        \n",
    "\n",
    "'''\n",
    "1\n",
    "1  2\n",
    "1  2  3\n",
    "'''"
   ]
  },
  {
   "cell_type": "code",
   "execution_count": 37,
   "metadata": {},
   "outputs": [
    {
     "name": "stdout",
     "output_type": "stream",
     "text": [
      "\n",
      " # break #\n",
      "0 1 2 3 "
     ]
    }
   ],
   "source": [
    "print('\\n # break #')    \n",
    "\n",
    "for i in range(6):\n",
    "    if i == 4 :\n",
    "        break\n",
    "    else:\n",
    "        print(i,end=' ')   # 0 1 2 3"
   ]
  },
  {
   "cell_type": "code",
   "execution_count": 38,
   "metadata": {},
   "outputs": [
    {
     "name": "stdout",
     "output_type": "stream",
     "text": [
      "\n",
      " # continue #\n",
      "0 1 2 3 5 "
     ]
    }
   ],
   "source": [
    "print('\\n # continue #')    \n",
    "\n",
    "for i in range(6):\n",
    "    if i == 4 :\n",
    "        continue\n",
    "    else:\n",
    "        print(i,end=' ')   # 0 1 2 3 5"
   ]
  },
  {
   "cell_type": "markdown",
   "metadata": {},
   "source": [
    "<img src=\"images/1-3-flow_2019-page-013.jpg\" alt=\"SRTTU\" style=\"width: 1000px;\"/>"
   ]
  },
  {
   "cell_type": "markdown",
   "metadata": {},
   "source": [
    "<img src=\"images/1-3-flow_2019-page-014.jpg\" alt=\"SRTTU\" style=\"width: 1000px;\"/>"
   ]
  },
  {
   "cell_type": "code",
   "execution_count": 39,
   "metadata": {},
   "outputs": [
    {
     "name": "stdout",
     "output_type": "stream",
     "text": [
      "\n",
      " # while #\n",
      "1 2 3 4 "
     ]
    }
   ],
   "source": [
    "print('\\n # while #')\n",
    "      \n",
    "i = 1      \n",
    "while i <= 4:\n",
    "    print(i , end= ' ')    # 1 2 3 4\n",
    "    i += 1"
   ]
  },
  {
   "cell_type": "code",
   "execution_count": 40,
   "metadata": {},
   "outputs": [
    {
     "name": "stdout",
     "output_type": "stream",
     "text": [
      "8 7 6 5 "
     ]
    }
   ],
   "source": [
    "n = 9\n",
    "while n > 2:\n",
    "    n -= 1\n",
    "    if n == 4:\n",
    "        break\n",
    "    print(n , end = ' ')    # 8 7 6 5"
   ]
  },
  {
   "cell_type": "code",
   "execution_count": 41,
   "metadata": {},
   "outputs": [
    {
     "name": "stdout",
     "output_type": "stream",
     "text": [
      "8 7 6 5 3 2 "
     ]
    }
   ],
   "source": [
    "n = 9\n",
    "while n > 2:\n",
    "    n -= 1\n",
    "    if n == 4:\n",
    "        continue\n",
    "    print(n , end = ' ')    # 8 7 6 5 3 2 "
   ]
  },
  {
   "cell_type": "markdown",
   "metadata": {},
   "source": [
    "<img src=\"images/1-3-flow_2019-page-036.jpg\" alt=\"SRTTU\" style=\"width: 1000px;\"/>"
   ]
  },
  {
   "cell_type": "markdown",
   "metadata": {},
   "source": [
    "<img src=\"images/1-3-flow_2019-page-037.jpg\" alt=\"SRTTU\" style=\"width: 1000px;\"/>"
   ]
  },
  {
   "cell_type": "markdown",
   "metadata": {},
   "source": [
    "<img src=\"images/1-3-flow_2019-page-038.jpg\" alt=\"SRTTU\" style=\"width: 1000px;\"/>"
   ]
  },
  {
   "cell_type": "code",
   "execution_count": 42,
   "metadata": {},
   "outputs": [
    {
     "name": "stdout",
     "output_type": "stream",
     "text": [
      "48% wins\n",
      "Avg # bets: 104\n"
     ]
    }
   ],
   "source": [
    "import random\n",
    "\n",
    "stake = 10\n",
    "goal = 20\n",
    "trials = 1000\n",
    "\n",
    "bets = 0\n",
    "wins = 0\n",
    "\n",
    "for t in range(trials):\n",
    "    cash = stake\n",
    "    while 0 < cash < goal:\n",
    "        bets += 1\n",
    "        if random.randrange(0, 2) == 0:\n",
    "            cash += 1\n",
    "        else:\n",
    "            cash -=1\n",
    "    if cash == goal:\n",
    "        wins += 1\n",
    "        \n",
    "print(str(100 * wins // trials) + '% wins')\n",
    "print('Avg # bets: ' + str (bets // trials))"
   ]
  },
  {
   "cell_type": "markdown",
   "metadata": {},
   "source": [
    "<img src=\"images/1-3-flow_2019-page-039.jpg\" alt=\"SRTTU\" style=\"width: 1000px;\"/>"
   ]
  },
  {
   "cell_type": "markdown",
   "metadata": {},
   "source": [
    "<img src=\"images/1-3-flow_2019-page-040.jpg\" alt=\"SRTTU\" style=\"width: 1000px;\"/>"
   ]
  },
  {
   "cell_type": "markdown",
   "metadata": {},
   "source": [
    "<img src=\"images/1-2-types-2019-page-010.jpg\" alt=\"SRTTU\" style=\"width: 1000px;\"/>"
   ]
  },
  {
   "cell_type": "code",
   "execution_count": 43,
   "metadata": {},
   "outputs": [
    {
     "data": {
      "text/plain": [
       "'\\n  string\\n        len , is..  ,find , count  , title , ljust , startswith , replcae , \\n        strip , split , join , format , ...\\n'"
      ]
     },
     "execution_count": 43,
     "metadata": {},
     "output_type": "execute_result"
    }
   ],
   "source": [
    "'''\n",
    "  string\n",
    "        len , is..  ,find , count  , title , ljust , startswith , replcae , \n",
    "        strip , split , join , format , ...\n",
    "'''"
   ]
  },
  {
   "cell_type": "code",
   "execution_count": 44,
   "metadata": {},
   "outputs": [
    {
     "name": "stdout",
     "output_type": "stream",
     "text": [
      "\n",
      "---String---\n",
      "6\n",
      "True\n",
      "True\n",
      "True\n",
      "False\n",
      "4\n",
      "1\n",
      "Python\n",
      "PYTHON\n",
      "python++\n",
      "True\n",
      "pyramid\n"
     ]
    }
   ],
   "source": [
    "print('\\n---String---')    \n",
    "\n",
    "s = 'python'\n",
    "\n",
    "print(len(s))               # 6\n",
    "print('th' in s)            # True\n",
    "\n",
    "print(s.islower())          # True \n",
    "print(s.isalpha())          # True\n",
    "print(s.isdigit())          # False\n",
    "\n",
    "print(s.find('o'))          # 4\n",
    "print(s.count('o'))         # 1\n",
    "\n",
    "print(s.title())            # Python\n",
    "print(s.upper())            # PYTHON\n",
    "\n",
    "print(s.ljust(8,'+'))       # python++\n",
    "print(s.startswith('py'))   # True\n",
    "\n",
    "print(s.replace('thon','ramid'))   # pyramid"
   ]
  },
  {
   "cell_type": "code",
   "execution_count": 45,
   "metadata": {},
   "outputs": [
    {
     "name": "stdout",
     "output_type": "stream",
     "text": [
      "python\n"
     ]
    }
   ],
   "source": [
    "s = '$python$$'\n",
    "print(s.strip('$'))     # python"
   ]
  },
  {
   "cell_type": "code",
   "execution_count": 46,
   "metadata": {},
   "outputs": [
    {
     "name": "stdout",
     "output_type": "stream",
     "text": [
      "['Python', 'created', 'by', 'Rossum']\n"
     ]
    }
   ],
   "source": [
    "s = 'Python created by Rossum'\n",
    "a = s.split(' ')\n",
    "print(a)            # ['Python', 'created', 'by', 'Rossum']"
   ]
  },
  {
   "cell_type": "code",
   "execution_count": 47,
   "metadata": {},
   "outputs": [
    {
     "name": "stdout",
     "output_type": "stream",
     "text": [
      "Python created by Rossum\n"
     ]
    }
   ],
   "source": [
    "b = ['Python', 'created', 'by', 'Rossum']\n",
    "c =' '.join(b)\n",
    "print(c)"
   ]
  },
  {
   "cell_type": "code",
   "execution_count": 48,
   "metadata": {},
   "outputs": [
    {
     "name": "stdout",
     "output_type": "stream",
     "text": [
      "# format #\n",
      "name : python\n",
      "name:python\n"
     ]
    }
   ],
   "source": [
    "print('# format #')\n",
    "      \n",
    "s = 'python'\n",
    "\n",
    "print(f'name : {s}')           # name : python\n",
    "print('name:{}'.format(s))     # name : python     "
   ]
  },
  {
   "cell_type": "code",
   "execution_count": 49,
   "metadata": {},
   "outputs": [
    {
     "name": "stdout",
     "output_type": "stream",
     "text": [
      "name:farshid   family:shirafkan\n"
     ]
    }
   ],
   "source": [
    "a = 'farshid'\n",
    "b = 'shirafkan'\n",
    "\n",
    "print('name:{0}   family:{1}'.format(a, b))  \n",
    "\n",
    "# name:farshid   family:shirafkan"
   ]
  },
  {
   "cell_type": "code",
   "execution_count": 50,
   "metadata": {},
   "outputs": [
    {
     "name": "stdout",
     "output_type": "stream",
     "text": [
      "15 18.0\n"
     ]
    }
   ],
   "source": [
    "a = 15\n",
    "b = 17.9999\n",
    "\n",
    "print('{:d} {:.1f}'.format(a, b))    # 15  18.0"
   ]
  },
  {
   "cell_type": "markdown",
   "metadata": {},
   "source": [
    "<img src=\"images/1-4-arrays_2019-page-003.jpg\" alt=\"SRTTU\" style=\"width: 1000px;\"/>"
   ]
  },
  {
   "cell_type": "markdown",
   "metadata": {},
   "source": [
    "<img src=\"images/1-4-arrays_2019-page-004.jpg\" alt=\"SRTTU\" style=\"width: 1000px;\"/>"
   ]
  },
  {
   "cell_type": "markdown",
   "metadata": {},
   "source": [
    "<img src=\"images/1-4-arrays_2019-page-005.jpg\" alt=\"SRTTU\" style=\"width: 1000px;\"/>"
   ]
  },
  {
   "cell_type": "markdown",
   "metadata": {},
   "source": [
    "<img src=\"images/1-4-arrays_2019-page-006.jpg\" alt=\"SRTTU\" style=\"width: 1000px;\"/>"
   ]
  },
  {
   "cell_type": "code",
   "execution_count": 51,
   "metadata": {},
   "outputs": [
    {
     "data": {
      "text/plain": [
       "\"\\n    list\\n    'index' ,'count','insert','remove','pop','reverse' , 'sort' ,'extend'\\n    , 'append','clear','copy',...\\n    \\n\""
      ]
     },
     "execution_count": 51,
     "metadata": {},
     "output_type": "execute_result"
    }
   ],
   "source": [
    "\"\"\"\n",
    "    list\n",
    "    'index' ,'count','insert','remove','pop','reverse' , 'sort' ,'extend'\n",
    "    , 'append','clear','copy',...\n",
    "    \n",
    "\"\"\""
   ]
  },
  {
   "cell_type": "code",
   "execution_count": 52,
   "metadata": {},
   "outputs": [
    {
     "name": "stdout",
     "output_type": "stream",
     "text": [
      "<class 'list'>\n",
      "3\n",
      "1\n",
      "2\n"
     ]
    }
   ],
   "source": [
    "a = [8, 2, 12]\n",
    "\n",
    "print(type(a))      # <class 'list'>\n",
    "\n",
    "print(len(a))       # 3\n",
    "\n",
    "print(a.index(2))   # 1\n",
    "\n",
    "print(a[1])         # 2\n",
    "a[1] = 7            # list is mutable"
   ]
  },
  {
   "cell_type": "code",
   "execution_count": 53,
   "metadata": {},
   "outputs": [
    {
     "name": "stdout",
     "output_type": "stream",
     "text": [
      "[5, 30, 8]\n",
      "[13, 5, 30]\n",
      "[8, 6, 25]\n",
      "[25, 6, 8, 30, 5, 13]\n",
      "[13, 30, 6]\n"
     ]
    }
   ],
   "source": [
    "a = [13, 5, 30, 8, 6, 25]\n",
    "\n",
    "print(a[1:4])        # [5, 30, 8]\n",
    "print(a[0:3])        # [13, 5, 30]\n",
    "print(a[3:])         # [8, 6, 25]\n",
    "print(a[::-1])       # [25, 6, 8, 30, 5, 13]\n",
    "\n",
    "print(a[0:7:2])      # [13, 30, 6]"
   ]
  },
  {
   "cell_type": "markdown",
   "metadata": {},
   "source": [
    "<img src=\"images/1-4-arrays_2019-page-012.jpg\" alt=\"SRTTU\" style=\"width: 1000px;\"/>"
   ]
  },
  {
   "cell_type": "code",
   "execution_count": 54,
   "metadata": {},
   "outputs": [
    {
     "name": "stdout",
     "output_type": "stream",
     "text": [
      "14.5\n"
     ]
    }
   ],
   "source": [
    "a = [13, 5, 30, 8, 6, 25]\n",
    "\n",
    "total = 0.0\n",
    "for i in range(len(a)):\n",
    "    total += a[i]\n",
    "    \n",
    "average = total / len(a)\n",
    "print(average)"
   ]
  },
  {
   "cell_type": "code",
   "execution_count": 55,
   "metadata": {},
   "outputs": [
    {
     "name": "stdout",
     "output_type": "stream",
     "text": [
      "14.5\n"
     ]
    }
   ],
   "source": [
    "a = [13, 5, 30, 8, 6, 25]\n",
    "\n",
    "total = 0.0\n",
    "for v in a:\n",
    "    total += v\n",
    "    \n",
    "average = total / len(a)\n",
    "print(average)"
   ]
  },
  {
   "cell_type": "code",
   "execution_count": 56,
   "metadata": {},
   "outputs": [
    {
     "name": "stdout",
     "output_type": "stream",
     "text": [
      "sara\n",
      "mahsa\n",
      "sara\n",
      "mahsa\n"
     ]
    }
   ],
   "source": [
    "child = ['sara','mahsa']\n",
    "for i in child:\n",
    "    print(i)\n",
    "\n",
    "# or \n",
    "for i in range(len(child)):\n",
    "    print(child[i])"
   ]
  },
  {
   "cell_type": "code",
   "execution_count": 57,
   "metadata": {},
   "outputs": [
    {
     "name": "stdout",
     "output_type": "stream",
     "text": [
      "[3, 5, 3, 5]\n"
     ]
    }
   ],
   "source": [
    "a = [3, 5]\n",
    "b = a*2\n",
    "print(b)           # [3, 5, 3, 5]"
   ]
  },
  {
   "cell_type": "code",
   "execution_count": 58,
   "metadata": {},
   "outputs": [
    {
     "name": "stdout",
     "output_type": "stream",
     "text": [
      "[1, 2, 3, 'a', 'b']\n"
     ]
    }
   ],
   "source": [
    "a = [1, 2 , 3]\n",
    "b = ['a', 'b']\n",
    "c = a + b\n",
    "print(c)           # [1, 2, 3 ,'a', 'b']"
   ]
  },
  {
   "cell_type": "code",
   "execution_count": 59,
   "metadata": {},
   "outputs": [
    {
     "name": "stdout",
     "output_type": "stream",
     "text": [
      "67\n",
      "3\n",
      "90\n",
      "1\n",
      "[15, 5, 8, 67, 3]\n",
      "[15, 5, 8, 3]\n",
      "3\n",
      "[15, 5, 8]\n",
      "5\n",
      "[15, 8]\n",
      "[15]\n"
     ]
    }
   ],
   "source": [
    "a = [15 , 5 , 67 , 3 ]\n",
    "\n",
    "print(max(a))     # 67\n",
    "print(min(a))     # 3\n",
    "print(sum(a))     # 90\n",
    "\n",
    "print(a.count(5)) # 1\n",
    "\n",
    "a.insert(2,8)\n",
    "print(a)          # [15, 5, 8, 67, 3]\n",
    "\n",
    "a.remove(67)\n",
    "print(a)          # [15, 5, 8, 3]\n",
    "\n",
    "print(a.pop())    # 3\n",
    "print(a)          # [15, 5, 8]\n",
    "\n",
    "print(a.pop(1))   # 5\n",
    "print(a)          # [15, 8]\n",
    "\n",
    "del a[1]\n",
    "print(a)          # [15]"
   ]
  },
  {
   "cell_type": "code",
   "execution_count": 60,
   "metadata": {},
   "outputs": [
    {
     "name": "stdout",
     "output_type": "stream",
     "text": [
      "[4, 5, 7, 3]\n",
      "[3, 4, 5, 7]\n"
     ]
    }
   ],
   "source": [
    "a = [3,7,5,4]\n",
    "a.reverse()\n",
    "print(a)          # [4,5,7,3]\n",
    "\n",
    "a.sort()\n",
    "print(a)          # [3,4,5,7]"
   ]
  },
  {
   "cell_type": "code",
   "execution_count": 61,
   "metadata": {},
   "outputs": [
    {
     "name": "stdout",
     "output_type": "stream",
     "text": [
      "[1, 2, 9]\n"
     ]
    }
   ],
   "source": [
    "a = [1,2]\n",
    "a.append(9)\n",
    "print(a)          # [1, 2, 9]"
   ]
  },
  {
   "cell_type": "code",
   "execution_count": 62,
   "metadata": {},
   "outputs": [
    {
     "name": "stdout",
     "output_type": "stream",
     "text": [
      "[1, 2, ['a', 'b']]\n",
      "3\n"
     ]
    }
   ],
   "source": [
    "x = [1, 2]\n",
    "y = ['a','b']\n",
    "x.append(y)\n",
    "print(x)          # [1, 2, ['a','b']]\n",
    "print(len(x))     # 3"
   ]
  },
  {
   "cell_type": "code",
   "execution_count": 63,
   "metadata": {},
   "outputs": [
    {
     "name": "stdout",
     "output_type": "stream",
     "text": [
      "[1, 2, 'a', 'b']\n",
      "4\n"
     ]
    }
   ],
   "source": [
    "x = [1, 2]\n",
    "y = ['a','b']\n",
    "x.extend(y)\n",
    "print(x)          # [1, 2,'a','b']\n",
    "print(len(x))     # 4"
   ]
  },
  {
   "cell_type": "code",
   "execution_count": 64,
   "metadata": {},
   "outputs": [
    {
     "name": "stdout",
     "output_type": "stream",
     "text": [
      "[]\n",
      "0\n"
     ]
    }
   ],
   "source": [
    "a = [1, 2, 3, 4]\n",
    "a.clear()\n",
    "print(a)          # []\n",
    "print(len(a))     # 0"
   ]
  },
  {
   "cell_type": "code",
   "execution_count": 65,
   "metadata": {},
   "outputs": [
    {
     "name": "stdout",
     "output_type": "stream",
     "text": [
      "[1, 2]\n"
     ]
    }
   ],
   "source": [
    "a = [1,2]\n",
    "b = a.copy()\n",
    "print(b)         # [1, 2]"
   ]
  },
  {
   "cell_type": "code",
   "execution_count": 66,
   "metadata": {},
   "outputs": [
    {
     "name": "stdout",
     "output_type": "stream",
     "text": [
      "[0, 1, 2]\n",
      "[0, 1, 2]\n"
     ]
    }
   ],
   "source": [
    "a = []\n",
    "for i in range(3):\n",
    "    a.append(i)\n",
    "    \n",
    "print(a)          # [0, 1, 2]\n",
    "\n",
    "# or\n",
    "a = [i for i in range(3)]\n",
    "print(a)          # [0, 1, 2]"
   ]
  },
  {
   "cell_type": "code",
   "execution_count": 67,
   "metadata": {},
   "outputs": [
    {
     "name": "stdout",
     "output_type": "stream",
     "text": [
      "[18, 20]\n"
     ]
    }
   ],
   "source": [
    "grade = [5, 18, 20, 4, 7]\n",
    "\n",
    "a = [i for i in grade if i > 10]\n",
    "print(a)                          # [18,20]"
   ]
  },
  {
   "cell_type": "markdown",
   "metadata": {},
   "source": [
    "<img src=\"images/1-4-arrays_2019-page-054.jpg\" alt=\"SRTTU\" style=\"width: 1000px;\"/>"
   ]
  },
  {
   "cell_type": "code",
   "execution_count": 68,
   "metadata": {},
   "outputs": [
    {
     "name": "stdout",
     "output_type": "stream",
     "text": [
      "---- matrix ----\n",
      "3\n"
     ]
    }
   ],
   "source": [
    "print('---- matrix ----')\n",
    "\n",
    "m  = [\n",
    "       [1,2,3],\n",
    "       [4,5,6],\n",
    "       [7,8,9]\n",
    "      ]\n",
    "\n",
    "print(len(m)) # 3"
   ]
  },
  {
   "cell_type": "code",
   "execution_count": 69,
   "metadata": {},
   "outputs": [
    {
     "name": "stdout",
     "output_type": "stream",
     "text": [
      "[1, 2, 3]\n"
     ]
    }
   ],
   "source": [
    "print(m[0])   # [1, 2, 3]"
   ]
  },
  {
   "cell_type": "code",
   "execution_count": 70,
   "metadata": {},
   "outputs": [
    {
     "name": "stdout",
     "output_type": "stream",
     "text": [
      "[1, 2, 3]\n",
      "[4, 5, 6]\n",
      "[7, 8, 9]\n"
     ]
    }
   ],
   "source": [
    "for i in m:\n",
    "    print(i)"
   ]
  },
  {
   "cell_type": "code",
   "execution_count": 71,
   "metadata": {},
   "outputs": [
    {
     "name": "stdout",
     "output_type": "stream",
     "text": [
      "1 4 7 "
     ]
    }
   ],
   "source": [
    "for i in m:\n",
    "    print(i[0],end=' ')   # 1  4  7 "
   ]
  },
  {
   "cell_type": "code",
   "execution_count": 72,
   "metadata": {},
   "outputs": [
    {
     "name": "stdout",
     "output_type": "stream",
     "text": [
      "1 5 9 "
     ]
    }
   ],
   "source": [
    "for i in range(0,3) :\n",
    "    print(m[i][i],end=' ')  # 1  5  9"
   ]
  },
  {
   "cell_type": "code",
   "execution_count": 73,
   "metadata": {},
   "outputs": [
    {
     "name": "stdout",
     "output_type": "stream",
     "text": [
      "3 5 7 "
     ]
    }
   ],
   "source": [
    "for i in range(0,3):\n",
    "    print(m[i][2-i],end=' ') # 3  5  7"
   ]
  },
  {
   "cell_type": "code",
   "execution_count": 74,
   "metadata": {},
   "outputs": [
    {
     "name": "stdout",
     "output_type": "stream",
     "text": [
      "[6, 15, 24]\n"
     ]
    }
   ],
   "source": [
    "a = []\n",
    "a.extend([sum(i) for i in m])\n",
    "print(a)    # [6, 15, 24]"
   ]
  },
  {
   "cell_type": "code",
   "execution_count": 75,
   "metadata": {},
   "outputs": [
    {
     "name": "stdout",
     "output_type": "stream",
     "text": [
      "[12, 15, 18]\n"
     ]
    }
   ],
   "source": [
    "b = []\n",
    "for col in range(3):\n",
    "    b.append(sum(i[col] for i in m))\n",
    "print(b)    # [12, 15, 18]"
   ]
  },
  {
   "cell_type": "markdown",
   "metadata": {},
   "source": [
    "<img src=\"images/1-4-arrays_2019-page-058.jpg\" alt=\"SRTTU\" style=\"width: 1000px;\"/>"
   ]
  },
  {
   "cell_type": "code",
   "execution_count": 76,
   "metadata": {},
   "outputs": [
    {
     "name": "stdout",
     "output_type": "stream",
     "text": [
      "[[11, 13, 15], [17, 19, 21], [23, 25, 27]]\n"
     ]
    }
   ],
   "source": [
    "a  = [\n",
    "       [1,2,3],\n",
    "       [4,5,6],\n",
    "       [7,8,9]\n",
    "      ]\n",
    "\n",
    "b  = [\n",
    "       [10,11,12],\n",
    "       [13,14,15],\n",
    "       [16,17,18]\n",
    "      ]\n",
    "\n",
    "c  = [[0,0,0],\n",
    "      [0,0,0],\n",
    "      [0,0,0]\n",
    "     ]\n",
    "\n",
    "for i in range(3):\n",
    "    for j in range(3):\n",
    "        c[i][j] = a[i][j] + b[i][j]\n",
    "print(c)"
   ]
  },
  {
   "cell_type": "markdown",
   "metadata": {},
   "source": [
    "<img src=\"images/1-4-arrays_2019-page-059.jpg\" alt=\"SRTTU\" style=\"width: 1000px;\"/>"
   ]
  },
  {
   "cell_type": "code",
   "execution_count": 77,
   "metadata": {},
   "outputs": [
    {
     "name": "stdout",
     "output_type": "stream",
     "text": [
      "[[84, 90, 96], [201, 216, 231], [318, 342, 366]]\n"
     ]
    }
   ],
   "source": [
    "a  = [\n",
    "       [1,2,3],\n",
    "       [4,5,6],\n",
    "       [7,8,9]\n",
    "      ]\n",
    "\n",
    "b  = [\n",
    "       [10,11,12],\n",
    "       [13,14,15],\n",
    "       [16,17,18]\n",
    "      ]\n",
    "\n",
    "c  = [[0,0,0],\n",
    "      [0,0,0],\n",
    "      [0,0,0]\n",
    "     ]\n",
    "\n",
    "for i in range(3):\n",
    "    for j in range(3):\n",
    "        for k in range(3):\n",
    "            c[i][j] += a[i][k] * b[k][j]\n",
    "print(c)"
   ]
  },
  {
   "cell_type": "code",
   "execution_count": 78,
   "metadata": {},
   "outputs": [
    {
     "data": {
      "text/plain": [
       "'\\n    Tuple:\\n    len , index, sum , min , max , count , ...\\n'"
      ]
     },
     "execution_count": 78,
     "metadata": {},
     "output_type": "execute_result"
    }
   ],
   "source": [
    "\"\"\"\n",
    "    Tuple:\n",
    "    len , index, sum , min , max , count , ...\n",
    "\"\"\""
   ]
  },
  {
   "cell_type": "code",
   "execution_count": 79,
   "metadata": {},
   "outputs": [
    {
     "name": "stdout",
     "output_type": "stream",
     "text": [
      "<class 'tuple'>\n",
      "3\n",
      "Art\n",
      "('Art', 'Mathematics')\n",
      "1\n",
      "True\n"
     ]
    }
   ],
   "source": [
    "t = ('English', 'Art', 'Mathematics')\n",
    "\n",
    "print(type(t))   # <class 'tuple'>\n",
    "\n",
    "print(len(t))    # 3\n",
    "\n",
    "print(t[1])      # Art\n",
    "\n",
    "print(t[1:3])    # ('Art', 'Mathematics')\n",
    "\n",
    "print(t.index('Art'))      # 1\n",
    "\n",
    "print( 'Art' in t)         # True\n",
    "\n",
    "# t[0] = 'history'         # error : tuples are immutable"
   ]
  },
  {
   "cell_type": "code",
   "execution_count": 80,
   "metadata": {},
   "outputs": [
    {
     "name": "stdout",
     "output_type": "stream",
     "text": [
      "13\n",
      "7\n",
      "1\n",
      "0\n",
      "(5, 7, 1)\n"
     ]
    }
   ],
   "source": [
    "t = (1, 7, 5) \n",
    "   \n",
    "print(sum(t))      # 13\n",
    "print(max(t))      # 7\n",
    "print(min(t))      # 1\n",
    "\n",
    "print(t.count(9))  # 0\n",
    "\n",
    "print(tuple(reversed(t)))  # (7,5,1)"
   ]
  },
  {
   "cell_type": "code",
   "execution_count": 81,
   "metadata": {},
   "outputs": [
    {
     "name": "stdout",
     "output_type": "stream",
     "text": [
      "(1, 2, 3)\n"
     ]
    }
   ],
   "source": [
    "t = (1, 2)\n",
    "a = list(t)\n",
    "a.append(3)\n",
    "t = tuple(a)\n",
    "print(t)           # (1, 2, 3)"
   ]
  },
  {
   "cell_type": "code",
   "execution_count": 82,
   "metadata": {},
   "outputs": [
    {
     "name": "stdout",
     "output_type": "stream",
     "text": [
      "(14, 7, 19)\n"
     ]
    }
   ],
   "source": [
    "t = (14, 7, 3, 19)\n",
    "x = list(t)\n",
    "x.remove(3)\n",
    "t = tuple(x)\n",
    "print(t)          # (14, 7, 19)"
   ]
  },
  {
   "cell_type": "code",
   "execution_count": 83,
   "metadata": {},
   "outputs": [
    {
     "name": "stdout",
     "output_type": "stream",
     "text": [
      "red\n",
      "8\n"
     ]
    }
   ],
   "source": [
    "t = ('red', 8)\n",
    "x,y = t\n",
    "print(x)         # red\n",
    "print(y)         # 8"
   ]
  },
  {
   "cell_type": "code",
   "execution_count": 84,
   "metadata": {},
   "outputs": [
    {
     "name": "stdout",
     "output_type": "stream",
     "text": [
      "[(1, 'x'), (2, 'y')]\n",
      "[(1, 2), ('x', 'y')]\n"
     ]
    }
   ],
   "source": [
    "a = (1, 2)\n",
    "b = ('x', 'y')\n",
    "\n",
    "c = zip(a,b)\n",
    "\n",
    "print(list(c))           # [(1, 'x'), (2, 'y')]\n",
    "\n",
    "# unzip\n",
    "x = [(1, 'x'), (2, 'y')]\n",
    "u = zip(*x)\n",
    "print(list(u))          # [(1, 2), ('x','y')]"
   ]
  },
  {
   "cell_type": "code",
   "execution_count": 85,
   "metadata": {},
   "outputs": [
    {
     "data": {
      "text/plain": [
       "'\\n   dictionary:\\n       len , get , keys , values , items , pop , popitems ,... \\n'"
      ]
     },
     "execution_count": 85,
     "metadata": {},
     "output_type": "execute_result"
    }
   ],
   "source": [
    "\"\"\"\n",
    "   dictionary:\n",
    "       len , get , keys , values , items , pop , popitems ,... \n",
    "\"\"\""
   ]
  },
  {
   "cell_type": "code",
   "execution_count": 86,
   "metadata": {},
   "outputs": [
    {
     "name": "stdout",
     "output_type": "stream",
     "text": [
      "# dict #\n"
     ]
    }
   ],
   "source": [
    "print('# dict #')\n",
    "      \n",
    "      \n",
    "d = {\n",
    "     'brand' : 'b' , \n",
    "     'model' : 'm' ,\n",
    "     'color' : 'red' , \n",
    "     'year'  : 2020\n",
    "     }\n",
    "\n",
    "# or \n",
    "# d = dict( brand = 'b' , model='m' , color = 'white' , 'year' = 2020)"
   ]
  },
  {
   "cell_type": "code",
   "execution_count": 87,
   "metadata": {},
   "outputs": [
    {
     "name": "stdout",
     "output_type": "stream",
     "text": [
      "<class 'dict'>\n",
      "4\n",
      "32\n",
      "32\n",
      "['x', 'y', 'z', 'w']\n",
      "[14, 32, 11, 7]\n",
      "[('x', 14), ('y', 32), ('z', 11), ('w', 7)]\n",
      "x : 14\n",
      "y : 32\n",
      "z : 11\n",
      "w : 7\n",
      "{'x': 14, 'z': 11, 'w': 7}\n",
      "{'x': 14, 'z': 11}\n",
      "{}\n"
     ]
    }
   ],
   "source": [
    "d = {'x': 14, 'y': 32, 'z': 11, 'w': 7}\n",
    "\n",
    "print(type(d))           # <class dict>\n",
    "\n",
    "print(len(d))            # 4\n",
    "\n",
    "print( d['y'])           # 32\n",
    "\n",
    "print(d.get('y'))        # 32\n",
    "\n",
    "print(list(d.keys()))    # ['x', 'y', 'z', 'w']\n",
    "\n",
    "print(list(d.values()))  # [14, 32, 11, 7]\n",
    "\n",
    "print(list(d.items()))   # [('x', 14), ('y', 32), ('z', 11), ('w', 7)]\n",
    "\n",
    "for k,v in d.items():\n",
    "    print(k,':',v)\n",
    "'''\n",
    "x : 14\n",
    "y : 32\n",
    "z : 11\n",
    "w : 7\n",
    "'''    \n",
    "\n",
    "d.pop('y')    \n",
    "print(d)                 # {'x': 14, 'z': 11, 'w': 7}\n",
    "\n",
    "d.popitem()\n",
    "print(d)                 # {'x': 14, 'z': 11}\n",
    "\n",
    "d.clear()\n",
    "print(d)                 # {}\n",
    "\n",
    "del d"
   ]
  },
  {
   "cell_type": "code",
   "execution_count": 88,
   "metadata": {},
   "outputs": [
    {
     "name": "stdout",
     "output_type": "stream",
     "text": [
      "[('w', 7), ('z', 11), ('x', 14), ('y', 32)]\n"
     ]
    }
   ],
   "source": [
    "d = {'x': 14, 'y': 32, 'z': 11, 'w': 7}\n",
    "\n",
    "import operator\n",
    "\n",
    "k = operator.itemgetter(1)\n",
    "\n",
    "print(sorted(d.items(),key = k))\n",
    "\n",
    "# [('w', 7), ('z', 11), ('x', 14), ('y', 32)]"
   ]
  },
  {
   "cell_type": "code",
   "execution_count": 89,
   "metadata": {},
   "outputs": [
    {
     "name": "stdout",
     "output_type": "stream",
     "text": [
      "{'x': 3, 'y': 2, 'z': 1, 'w': 8, 't': 7}\n"
     ]
    }
   ],
   "source": [
    "# combine\n",
    "d1 = {'x' : 3 , 'y': 2 , 'z':1}\n",
    "d2 = {'w' : 8 , 't': 7 }\n",
    "d = {}\n",
    "\n",
    "d = d1.copy()\n",
    "d.update(d2)\n",
    "\n",
    "print(d)      # {'x': 3, 'y': 2, 'z': 1, 'w': 8, 't': 7}\n",
    "\n",
    "# or\n",
    "d = {**d1 , **d2} "
   ]
  },
  {
   "cell_type": "code",
   "execution_count": 90,
   "metadata": {},
   "outputs": [
    {
     "name": "stdout",
     "output_type": "stream",
     "text": [
      "{'a': 4, 'b': 8}\n"
     ]
    }
   ],
   "source": [
    "k = ['a' , 'b'] \n",
    "v = [4 , 8]\n",
    "\n",
    "z = zip(k,v)\n",
    "\n",
    "d = dict(z)     \n",
    "print(d)       # {'a': 4, 'b': 8}"
   ]
  },
  {
   "cell_type": "code",
   "execution_count": 91,
   "metadata": {},
   "outputs": [],
   "source": [
    "### Nested dict\n",
    "\n",
    "myfamily = {\n",
    "        'child1': {'name':'taha'  , 'age' : 8}  ,      \n",
    "        'child2': {'name':'mahsa' , 'age' : 20}              \n",
    "        }"
   ]
  },
  {
   "cell_type": "code",
   "execution_count": 92,
   "metadata": {},
   "outputs": [
    {
     "name": "stdout",
     "output_type": "stream",
     "text": [
      "3\n",
      "0912-1972028\n",
      "mahsa\n"
     ]
    }
   ],
   "source": [
    "p = {\n",
    "     'name'     : 'farshid', \n",
    "     'children' : ['mahsa', 'taha'],\n",
    "     'phone'    : {'home':'021-4455', 'mobile':'0912-1972028'}\n",
    "    }\n",
    "\n",
    "print(len(p))                # 3\n",
    "\n",
    "print(p['phone']['mobile'])  # 0912-1972028\n",
    "\n",
    "print(p['children'][0])      # mahsa"
   ]
  },
  {
   "cell_type": "code",
   "execution_count": 93,
   "metadata": {},
   "outputs": [
    {
     "data": {
      "text/plain": [
       "'\\n    Set :\\n        len , add, update , remove , discard , pop , copy , clear,\\n        intersection , union , difference , update , issubset , isdisjoint , ...\\n'"
      ]
     },
     "execution_count": 93,
     "metadata": {},
     "output_type": "execute_result"
    }
   ],
   "source": [
    "\"\"\"\n",
    "    Set :\n",
    "        len , add, update , remove , discard , pop , copy , clear,\n",
    "        intersection , union , difference , update , issubset , isdisjoint , ...\n",
    "\"\"\""
   ]
  },
  {
   "cell_type": "code",
   "execution_count": 94,
   "metadata": {},
   "outputs": [
    {
     "name": "stdout",
     "output_type": "stream",
     "text": [
      "<class 'set'>\n",
      "4\n",
      "False\n",
      "{'a', 'i', 'o', 'e', 'u'}\n"
     ]
    }
   ],
   "source": [
    "S = {'a','e','o','i'}\n",
    "\n",
    "print(type(S))     # <class 'set'>\n",
    "\n",
    "print(len(S))      # 4\n",
    "\n",
    "print('u' in S)    # False\n",
    "\n",
    "S.add('u')\n",
    "print(S)           # {'i', 'u', 'e', 'a', 'o'}\n"
   ]
  },
  {
   "cell_type": "code",
   "execution_count": 95,
   "metadata": {},
   "outputs": [
    {
     "name": "stdout",
     "output_type": "stream",
     "text": [
      "{'a', 'o', 'e', 'u'}\n"
     ]
    }
   ],
   "source": [
    "S.remove('i')\n",
    "print(S)           # {'u', 'e', 'a', 'o'}"
   ]
  },
  {
   "cell_type": "code",
   "execution_count": 96,
   "metadata": {},
   "outputs": [
    {
     "name": "stdout",
     "output_type": "stream",
     "text": [
      "{'o', 'u', 'a', 'e'}\n"
     ]
    }
   ],
   "source": [
    "c = S.copy()\n",
    "print(c)          # {'a', 'o', 'e', 'u'}"
   ]
  },
  {
   "cell_type": "code",
   "execution_count": 97,
   "metadata": {},
   "outputs": [
    {
     "name": "stdout",
     "output_type": "stream",
     "text": [
      "set()\n",
      "0\n"
     ]
    }
   ],
   "source": [
    "S.clear()\n",
    "print(S)                   # set()\n",
    "print(len(S))              # 0"
   ]
  },
  {
   "cell_type": "code",
   "execution_count": 98,
   "metadata": {},
   "outputs": [
    {
     "name": "stdout",
     "output_type": "stream",
     "text": [
      "{2, 4}\n",
      "{2, 4}\n"
     ]
    }
   ],
   "source": [
    "X = {1, 2, 3 ,4 , 5}\n",
    "Y = {2, 4}\n",
    "\n",
    "print(X.intersection(Y))    # {2, 4}\n",
    "print(X & Y)                # {2, 4}"
   ]
  },
  {
   "cell_type": "code",
   "execution_count": 99,
   "metadata": {},
   "outputs": [
    {
     "name": "stdout",
     "output_type": "stream",
     "text": [
      "{1, 2, 3, 4, 5}\n",
      "{1, 2, 3, 4, 5}\n"
     ]
    }
   ],
   "source": [
    "print(X.union(Y))           # {1, 2, 3, 4 , 5}\n",
    "print(X | Y)                # {1, 2, 3, 4 , 5}"
   ]
  },
  {
   "cell_type": "code",
   "execution_count": 100,
   "metadata": {},
   "outputs": [
    {
     "name": "stdout",
     "output_type": "stream",
     "text": [
      "{1, 3, 5}\n",
      "{1, 3, 5}\n"
     ]
    }
   ],
   "source": [
    "print(X.difference(Y))      # {1, 3, 5}\n",
    "print(X-Y)                  # {1, 3, 5}"
   ]
  },
  {
   "cell_type": "code",
   "execution_count": 101,
   "metadata": {},
   "outputs": [
    {
     "name": "stdout",
     "output_type": "stream",
     "text": [
      "True\n"
     ]
    }
   ],
   "source": [
    "X = {'A', 'M'}\n",
    "Y = {'A','C','M','F'}\n",
    "print(X.issubset(Y))     # True"
   ]
  },
  {
   "cell_type": "markdown",
   "metadata": {},
   "source": [
    "<div class=\"alert alert-block alert-info\">\n",
    "<div style=\"direction:rtl;text-align:right;font-family:B Lotus, B Nazanin, Tahoma\"> دانشگاه شهید مدنی آذربایجان<br> برنامه نویسی پیشرفته با پایتون<br>امین گلزاری اسکوئی <br>1400-1401<br>\n",
    "</div>\n",
    "<a href=\"https://github.com/Amin-Golzari-Oskouei/Python-Programming-Course-Advanced-2021\"> Codes and Projects (click here) </a>\n",
    "<a href=\"https://drive.google.com/drive/folders/1Dx3v7fD1QBWL-MNP2hd7iIxaRbeALkkA\">slides and videos (click here)</a>\n",
    "</div>"
   ]
  }
 ],
 "metadata": {
  "kernelspec": {
   "display_name": "Python 3",
   "language": "python",
   "name": "python3"
  },
  "language_info": {
   "codemirror_mode": {
    "name": "ipython",
    "version": 3
   },
   "file_extension": ".py",
   "mimetype": "text/x-python",
   "name": "python",
   "nbconvert_exporter": "python",
   "pygments_lexer": "ipython3",
   "version": "3.7.6"
  }
 },
 "nbformat": 4,
 "nbformat_minor": 4
}
